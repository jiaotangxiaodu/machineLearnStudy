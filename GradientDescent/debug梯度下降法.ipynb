{
 "cells": [
  {
   "cell_type": "code",
   "execution_count": 1,
   "metadata": {},
   "outputs": [],
   "source": [
    "import numpy as np"
   ]
  },
  {
   "cell_type": "code",
   "execution_count": 2,
   "metadata": {},
   "outputs": [],
   "source": [
    "import matplotlib.pyplot as plt"
   ]
  },
  {
   "cell_type": "code",
   "execution_count": 3,
   "metadata": {},
   "outputs": [],
   "source": [
    "np.random.seed(666)"
   ]
  },
  {
   "cell_type": "code",
   "execution_count": 4,
   "metadata": {},
   "outputs": [],
   "source": [
    "X = np.random.random(size=(1000,10))"
   ]
  },
  {
   "cell_type": "code",
   "execution_count": 6,
   "metadata": {},
   "outputs": [],
   "source": [
    "true_theta = np.arange(1,12,dtype=float)"
   ]
  },
  {
   "cell_type": "code",
   "execution_count": 8,
   "metadata": {},
   "outputs": [],
   "source": [
    "m = len(X)"
   ]
  },
  {
   "cell_type": "code",
   "execution_count": 17,
   "metadata": {},
   "outputs": [],
   "source": [
    "X_b = np.hstack([np.ones((m,1)),X])"
   ]
  },
  {
   "cell_type": "code",
   "execution_count": 20,
   "metadata": {},
   "outputs": [],
   "source": [
    "y = X_b.dot(true_theta)+np.random.normal(size=1000)"
   ]
  },
  {
   "cell_type": "code",
   "execution_count": 22,
   "metadata": {},
   "outputs": [],
   "source": [
    "## 损失函数\n",
    "def J(theta,X_b,y):\n",
    "    return np.sum((X_b.dot(theta) - y)**2)/len(X_b)"
   ]
  },
  {
   "cell_type": "code",
   "execution_count": 24,
   "metadata": {},
   "outputs": [],
   "source": [
    "def dJ(theta,X_b,y):\n",
    "    return X_b.T.dot(X_b.dot(theta)-y)*2./len(y)"
   ]
  },
  {
   "cell_type": "code",
   "execution_count": 34,
   "metadata": {},
   "outputs": [],
   "source": [
    "def dJ_math(theta,X_b,y):\n",
    "    return X_b.T.dot(X_b.dot(theta)-y)*2./len(y)"
   ]
  },
  {
   "cell_type": "code",
   "execution_count": 64,
   "metadata": {},
   "outputs": [],
   "source": [
    "def dJ_debug(theta,X_b,y,epsilon=1e-8):\n",
    "    m = len(theta)\n",
    "    res = np.empty(m)\n",
    "    for i in range(m):\n",
    "        theta_plus = theta.copy()\n",
    "        theta_plus[i] += epsilon\n",
    "        theta_minus = theta.copy()\n",
    "        theta_minus[i] -= epsilon\n",
    "        res[i] = (J(theta_plus,X_b,y) - J(theta_minus,X_b,y))/(2*epsilon)\n",
    "    return res"
   ]
  },
  {
   "cell_type": "code",
   "execution_count": 32,
   "metadata": {},
   "outputs": [
    {
     "data": {
      "text/plain": [
       "array([-0.01707541, -0.01975592,  0.0023443 , -0.03300947, -0.01991536,\n",
       "        0.00455009, -0.00615756, -0.01060135,  0.0136495 , -0.00604455,\n",
       "        0.0053788 ])"
      ]
     },
     "execution_count": 32,
     "metadata": {},
     "output_type": "execute_result"
    }
   ],
   "source": [
    "dJ_math(true_theta,X_b,y)"
   ]
  },
  {
   "cell_type": "code",
   "execution_count": 47,
   "metadata": {},
   "outputs": [
    {
     "data": {
      "text/plain": [
       "array([-0.01707541, -0.01975592,  0.0023443 , -0.03300947, -0.01991536,\n",
       "        0.00455009, -0.00615756, -0.01060135,  0.0136495 , -0.00604455,\n",
       "        0.0053788 ])"
      ]
     },
     "execution_count": 47,
     "metadata": {},
     "output_type": "execute_result"
    }
   ],
   "source": [
    "dJ_debug(true_theta,X_b,y)"
   ]
  },
  {
   "cell_type": "code",
   "execution_count": 59,
   "metadata": {},
   "outputs": [],
   "source": [
    "def gradient_desc(dJ,X_b,y,inital_theta=np.zeros(len(X_b[0])),eta=0.01,n_iter=1e4,epsilon=1e-8):\n",
    "    theta = inital_theta\n",
    "    cur_iter = 0\n",
    "    while cur_iter < n_iter:\n",
    "        cur_gradient = dJ(theta,X_b,y)\n",
    "        last_theta = theta\n",
    "        theta = theta - eta * cur_gradient\n",
    "        if abs(J(theta,X_b,y) - J(last_theta,X_b,y)) < epsilon:\n",
    "            break\n",
    "        cur_iter += 1\n",
    "    return theta"
   ]
  },
  {
   "cell_type": "code",
   "execution_count": 62,
   "metadata": {},
   "outputs": [
    {
     "name": "stdout",
     "output_type": "stream",
     "text": [
      "CPU times: user 1.12 s, sys: 119 ms, total: 1.23 s\n",
      "Wall time: 686 ms\n"
     ]
    },
    {
     "data": {
      "text/plain": [
       "array([ 1.1251597 ,  2.05312521,  2.91522497,  4.11895968,  5.05002117,\n",
       "        5.90494046,  6.97383745,  8.00088367,  8.86213468,  9.98608331,\n",
       "       10.90529198])"
      ]
     },
     "execution_count": 62,
     "metadata": {},
     "output_type": "execute_result"
    }
   ],
   "source": [
    "%time gradient_desc(dJ_math,X_b,y)"
   ]
  },
  {
   "cell_type": "code",
   "execution_count": 65,
   "metadata": {},
   "outputs": [
    {
     "name": "stdout",
     "output_type": "stream",
     "text": [
      "CPU times: user 7.92 s, sys: 770 ms, total: 8.69 s\n",
      "Wall time: 4.45 s\n"
     ]
    },
    {
     "data": {
      "text/plain": [
       "array([ 1.1251597 ,  2.05312521,  2.91522496,  4.11895968,  5.05002117,\n",
       "        5.90494046,  6.97383745,  8.00088367,  8.86213468,  9.98608331,\n",
       "       10.90529198])"
      ]
     },
     "execution_count": 65,
     "metadata": {},
     "output_type": "execute_result"
    }
   ],
   "source": [
    "%time gradient_desc(dJ_debug,X_b,y)"
   ]
  },
  {
   "cell_type": "code",
   "execution_count": null,
   "metadata": {},
   "outputs": [],
   "source": []
  }
 ],
 "metadata": {
  "kernelspec": {
   "display_name": "Python 3",
   "language": "python",
   "name": "python3"
  },
  "language_info": {
   "codemirror_mode": {
    "name": "ipython",
    "version": 3
   },
   "file_extension": ".py",
   "mimetype": "text/x-python",
   "name": "python",
   "nbconvert_exporter": "python",
   "pygments_lexer": "ipython3",
   "version": "3.7.3"
  }
 },
 "nbformat": 4,
 "nbformat_minor": 2
}
