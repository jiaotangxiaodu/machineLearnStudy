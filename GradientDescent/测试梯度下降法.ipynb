{
 "cells": [
  {
   "cell_type": "code",
   "execution_count": 1,
   "metadata": {},
   "outputs": [],
   "source": [
    "import numpy as np"
   ]
  },
  {
   "cell_type": "code",
   "execution_count": 2,
   "metadata": {},
   "outputs": [],
   "source": [
    "from matplotlib import pyplot as plt"
   ]
  },
  {
   "cell_type": "code",
   "execution_count": 3,
   "metadata": {},
   "outputs": [],
   "source": [
    "plot_x = np.linspace(-1,6,141)"
   ]
  },
  {
   "cell_type": "code",
   "execution_count": 4,
   "metadata": {},
   "outputs": [
    {
     "data": {
      "text/plain": [
       "array([-1.  , -0.95, -0.9 , -0.85, -0.8 , -0.75, -0.7 , -0.65, -0.6 ,\n",
       "       -0.55, -0.5 , -0.45, -0.4 , -0.35, -0.3 , -0.25, -0.2 , -0.15,\n",
       "       -0.1 , -0.05,  0.  ,  0.05,  0.1 ,  0.15,  0.2 ,  0.25,  0.3 ,\n",
       "        0.35,  0.4 ,  0.45,  0.5 ,  0.55,  0.6 ,  0.65,  0.7 ,  0.75,\n",
       "        0.8 ,  0.85,  0.9 ,  0.95,  1.  ,  1.05,  1.1 ,  1.15,  1.2 ,\n",
       "        1.25,  1.3 ,  1.35,  1.4 ,  1.45,  1.5 ,  1.55,  1.6 ,  1.65,\n",
       "        1.7 ,  1.75,  1.8 ,  1.85,  1.9 ,  1.95,  2.  ,  2.05,  2.1 ,\n",
       "        2.15,  2.2 ,  2.25,  2.3 ,  2.35,  2.4 ,  2.45,  2.5 ,  2.55,\n",
       "        2.6 ,  2.65,  2.7 ,  2.75,  2.8 ,  2.85,  2.9 ,  2.95,  3.  ,\n",
       "        3.05,  3.1 ,  3.15,  3.2 ,  3.25,  3.3 ,  3.35,  3.4 ,  3.45,\n",
       "        3.5 ,  3.55,  3.6 ,  3.65,  3.7 ,  3.75,  3.8 ,  3.85,  3.9 ,\n",
       "        3.95,  4.  ,  4.05,  4.1 ,  4.15,  4.2 ,  4.25,  4.3 ,  4.35,\n",
       "        4.4 ,  4.45,  4.5 ,  4.55,  4.6 ,  4.65,  4.7 ,  4.75,  4.8 ,\n",
       "        4.85,  4.9 ,  4.95,  5.  ,  5.05,  5.1 ,  5.15,  5.2 ,  5.25,\n",
       "        5.3 ,  5.35,  5.4 ,  5.45,  5.5 ,  5.55,  5.6 ,  5.65,  5.7 ,\n",
       "        5.75,  5.8 ,  5.85,  5.9 ,  5.95,  6.  ])"
      ]
     },
     "execution_count": 4,
     "metadata": {},
     "output_type": "execute_result"
    }
   ],
   "source": [
    "plot_x"
   ]
  },
  {
   "cell_type": "code",
   "execution_count": 5,
   "metadata": {},
   "outputs": [],
   "source": [
    "plot_y = (plot_x-2.5)**2-1"
   ]
  },
  {
   "cell_type": "code",
   "execution_count": 6,
   "metadata": {},
   "outputs": [
    {
     "data": {
      "text/plain": [
       "array([11.25  , 10.9025, 10.56  , 10.2225,  9.89  ,  9.5625,  9.24  ,\n",
       "        8.9225,  8.61  ,  8.3025,  8.    ,  7.7025,  7.41  ,  7.1225,\n",
       "        6.84  ,  6.5625,  6.29  ,  6.0225,  5.76  ,  5.5025,  5.25  ,\n",
       "        5.0025,  4.76  ,  4.5225,  4.29  ,  4.0625,  3.84  ,  3.6225,\n",
       "        3.41  ,  3.2025,  3.    ,  2.8025,  2.61  ,  2.4225,  2.24  ,\n",
       "        2.0625,  1.89  ,  1.7225,  1.56  ,  1.4025,  1.25  ,  1.1025,\n",
       "        0.96  ,  0.8225,  0.69  ,  0.5625,  0.44  ,  0.3225,  0.21  ,\n",
       "        0.1025,  0.    , -0.0975, -0.19  , -0.2775, -0.36  , -0.4375,\n",
       "       -0.51  , -0.5775, -0.64  , -0.6975, -0.75  , -0.7975, -0.84  ,\n",
       "       -0.8775, -0.91  , -0.9375, -0.96  , -0.9775, -0.99  , -0.9975,\n",
       "       -1.    , -0.9975, -0.99  , -0.9775, -0.96  , -0.9375, -0.91  ,\n",
       "       -0.8775, -0.84  , -0.7975, -0.75  , -0.6975, -0.64  , -0.5775,\n",
       "       -0.51  , -0.4375, -0.36  , -0.2775, -0.19  , -0.0975,  0.    ,\n",
       "        0.1025,  0.21  ,  0.3225,  0.44  ,  0.5625,  0.69  ,  0.8225,\n",
       "        0.96  ,  1.1025,  1.25  ,  1.4025,  1.56  ,  1.7225,  1.89  ,\n",
       "        2.0625,  2.24  ,  2.4225,  2.61  ,  2.8025,  3.    ,  3.2025,\n",
       "        3.41  ,  3.6225,  3.84  ,  4.0625,  4.29  ,  4.5225,  4.76  ,\n",
       "        5.0025,  5.25  ,  5.5025,  5.76  ,  6.0225,  6.29  ,  6.5625,\n",
       "        6.84  ,  7.1225,  7.41  ,  7.7025,  8.    ,  8.3025,  8.61  ,\n",
       "        8.9225,  9.24  ,  9.5625,  9.89  , 10.2225, 10.56  , 10.9025,\n",
       "       11.25  ])"
      ]
     },
     "execution_count": 6,
     "metadata": {},
     "output_type": "execute_result"
    }
   ],
   "source": [
    "plot_y"
   ]
  },
  {
   "cell_type": "code",
   "execution_count": 7,
   "metadata": {},
   "outputs": [
    {
     "ename": "NameError",
     "evalue": "name 'ploy_x' is not defined",
     "output_type": "error",
     "traceback": [
      "\u001b[0;31m---------------------------------------------------------------------------\u001b[0m",
      "\u001b[0;31mNameError\u001b[0m                                 Traceback (most recent call last)",
      "\u001b[0;32m<ipython-input-7-a3ed0c8ca451>\u001b[0m in \u001b[0;36m<module>\u001b[0;34m\u001b[0m\n\u001b[0;32m----> 1\u001b[0;31m \u001b[0mplt\u001b[0m\u001b[0;34m.\u001b[0m\u001b[0mplot\u001b[0m\u001b[0;34m(\u001b[0m\u001b[0mploy_x\u001b[0m\u001b[0;34m,\u001b[0m\u001b[0mploy_y\u001b[0m\u001b[0;34m)\u001b[0m\u001b[0;34m\u001b[0m\u001b[0;34m\u001b[0m\u001b[0m\n\u001b[0m",
      "\u001b[0;31mNameError\u001b[0m: name 'ploy_x' is not defined"
     ]
    }
   ],
   "source": [
    "plt.plot(ploy_x,ploy_y)"
   ]
  },
  {
   "cell_type": "code",
   "execution_count": 8,
   "metadata": {},
   "outputs": [
    {
     "data": {
      "text/plain": [
       "[<matplotlib.lines.Line2D at 0x1104395c0>]"
      ]
     },
     "execution_count": 8,
     "metadata": {},
     "output_type": "execute_result"
    },
    {
     "data": {
      "image/png": "[encoded data removed]",
      "text/plain": [
       "<Figure size 432x288 with 1 Axes>"
      ]
     },
     "metadata": {
      "needs_background": "light"
     },
     "output_type": "display_data"
    }
   ],
   "source": [
    "plt.plot(plot_x,plot_y)"
   ]
  },
  {
   "cell_type": "code",
   "execution_count": 12,
   "metadata": {},
   "outputs": [],
   "source": [
    "def dJ(theta):\n",
    "    return 2*theta - 5"
   ]
  },
  {
   "cell_type": "code",
   "execution_count": 10,
   "metadata": {},
   "outputs": [],
   "source": [
    "def J(theta):\n",
    "    return (theta - 2.5)**2-1"
   ]
  },
  {
   "cell_type": "code",
   "execution_count": 13,
   "metadata": {},
   "outputs": [
    {
     "name": "stdout",
     "output_type": "stream",
     "text": [
      "2.499891109642585\n",
      "-0.99999998814289\n"
     ]
    }
   ],
   "source": [
    "theta = 0.\n",
    "eta = 0.1\n",
    "epsilon = 1e-8\n",
    "while True:\n",
    "    gradient = dJ(theta)\n",
    "    last_theta = theta\n",
    "    theta = theta - gradient * eta\n",
    "    if abs(J(theta) - J(last_theta))<epsilon:\n",
    "        break\n",
    "print(theta)\n",
    "print(J(theta))"
   ]
  },
  {
   "cell_type": "code",
   "execution_count": 14,
   "metadata": {},
   "outputs": [],
   "source": [
    "x = 2 * np.random.random(size=100)"
   ]
  },
  {
   "cell_type": "code",
   "execution_count": 15,
   "metadata": {},
   "outputs": [],
   "source": [
    "y = x * 3 + 4. + np.random.normal(size=100)"
   ]
  },
  {
   "cell_type": "code",
   "execution_count": 16,
   "metadata": {},
   "outputs": [
    {
     "data": {
      "text/plain": [
       "array([1.37567872e+00, 1.88918267e+00, 8.85145058e-01, 1.00415629e+00,\n",
       "       8.67483419e-01, 5.64791710e-02, 1.96705967e+00, 9.37251313e-01,\n",
       "       1.87000547e+00, 1.31158597e+00, 1.01268204e+00, 6.71429050e-01,\n",
       "       2.56923142e-02, 1.38619135e+00, 1.78421003e+00, 1.18389694e+00,\n",
       "       4.28277144e-01, 7.77231451e-01, 2.24828726e-01, 4.08566624e-01,\n",
       "       6.86522829e-02, 1.38452969e+00, 9.82792462e-01, 1.09958894e+00,\n",
       "       7.06608599e-02, 1.69827280e+00, 1.43819209e-01, 1.11609929e+00,\n",
       "       4.87422366e-01, 1.14485331e+00, 1.44580403e+00, 9.94735614e-01,\n",
       "       9.30012774e-01, 1.75133047e+00, 1.11232136e+00, 1.36263463e+00,\n",
       "       1.28735326e+00, 1.53172954e+00, 6.72955732e-01, 4.61061866e-01,\n",
       "       1.84128997e+00, 7.65106171e-01, 1.52620951e+00, 1.97710660e-02,\n",
       "       7.34584387e-01, 1.42963563e+00, 3.16703256e-01, 1.06295136e+00,\n",
       "       2.65824061e-01, 7.12346449e-01, 1.52120905e+00, 4.29595886e-01,\n",
       "       1.61247581e+00, 2.49778207e-01, 4.84755311e-02, 9.23731110e-02,\n",
       "       5.91752363e-01, 1.27069835e+00, 6.87737980e-01, 3.35824608e-01,\n",
       "       1.56066537e+00, 1.05831539e+00, 1.81100432e+00, 1.89442998e+00,\n",
       "       3.46385970e-01, 6.93981737e-01, 1.55243786e+00, 1.71255896e+00,\n",
       "       1.64744415e+00, 9.25549675e-01, 1.79260386e-01, 4.73175949e-01,\n",
       "       3.99564610e-01, 1.90982372e+00, 1.45385978e+00, 1.49198927e+00,\n",
       "       1.80480584e+00, 1.45780745e+00, 9.50207776e-01, 2.05288389e-02,\n",
       "       1.78077988e+00, 1.78101656e+00, 4.43685103e-01, 7.26007565e-04,\n",
       "       2.02571507e-01, 1.01626496e+00, 5.98259366e-01, 1.17260073e+00,\n",
       "       1.51512949e+00, 1.49583532e+00, 3.97708253e-01, 1.50270318e+00,\n",
       "       1.38043191e+00, 1.12833621e+00, 7.04762099e-02, 1.63017648e+00,\n",
       "       2.56623636e-01, 1.01770458e+00, 1.85123643e+00, 1.02600680e+00])"
      ]
     },
     "execution_count": 16,
     "metadata": {},
     "output_type": "execute_result"
    }
   ],
   "source": [
    "x"
   ]
  },
  {
   "cell_type": "code",
   "execution_count": 17,
   "metadata": {},
   "outputs": [
    {
     "data": {
      "text/plain": [
       "array([ 8.3352967 ,  9.72888004,  6.16804189,  8.69001899,  5.50133762,\n",
       "        2.74335508, 10.58996763,  5.38303238,  8.74220906,  8.25703038,\n",
       "        6.8601565 ,  6.70667474,  6.30436437,  7.23321057, 10.47035994,\n",
       "        7.60929228,  5.69642457,  6.90966132,  4.76772973,  4.58968853,\n",
       "        2.74113377,  9.13527659,  6.45563601,  6.29868494,  3.68175475,\n",
       "        8.73711486,  4.28817466,  6.56535352,  6.01874487,  8.99186921,\n",
       "        8.62654325,  5.99314668,  8.49360386,  8.32135965,  7.03766064,\n",
       "        9.99335154,  6.60217197,  8.7102914 ,  7.93230347,  6.21186923,\n",
       "       10.80426179,  5.89393458, 10.20419845,  4.12560706,  6.90170008,\n",
       "       10.16683366,  6.16837388,  6.67902703,  5.22169857,  7.78285609,\n",
       "        8.7543868 ,  4.31707673,  8.06956497,  4.08872303,  4.86338763,\n",
       "        2.82643094,  5.0531958 ,  7.14332117,  4.47547366,  5.29123044,\n",
       "        8.8624724 ,  8.2042075 , 10.78863315, 10.33249396,  5.43469574,\n",
       "        5.71949609,  8.41700774,  8.9987421 ,  6.8683988 ,  6.59269515,\n",
       "        3.07729663,  7.02738614,  4.10229079, 10.40700946,  8.06721888,\n",
       "        8.06332214,  8.35443327,  7.93603798,  7.87543096,  5.46873121,\n",
       "       10.47042801, 11.00555847,  5.9000124 ,  5.85425435,  2.22524387,\n",
       "        7.66235169,  7.18090767,  7.15003919,  8.54759004,  8.12571361,\n",
       "        6.82424922,  9.53415941,  7.98759153,  6.991021  ,  5.43618021,\n",
       "        7.52250438,  4.42173923,  6.24125841,  9.70885862,  8.46972255])"
      ]
     },
     "execution_count": 17,
     "metadata": {},
     "output_type": "execute_result"
    }
   ],
   "source": [
    "y"
   ]
  },
  {
   "cell_type": "code",
   "execution_count": 18,
   "metadata": {},
   "outputs": [
    {
     "data": {
      "text/plain": [
       "[<matplotlib.lines.Line2D at 0x112a83dd8>]"
      ]
     },
     "execution_count": 18,
     "metadata": {},
     "output_type": "execute_result"
    },
    {
     "data": {
      "image/png": "[encoded data removed]",
      "text/plain": [
       "<Figure size 432x288 with 1 Axes>"
      ]
     },
     "metadata": {
      "needs_background": "light"
     },
     "output_type": "display_data"
    }
   ],
   "source": [
    "plt.plot(x,y)"
   ]
  },
  {
   "cell_type": "code",
   "execution_count": 19,
   "metadata": {},
   "outputs": [],
   "source": [
    "plt?"
   ]
  },
  {
   "cell_type": "code",
   "execution_count": null,
   "metadata": {},
   "outputs": [],
   "source": []
  },
  {
   "cell_type": "code",
   "execution_count": 20,
   "metadata": {},
   "outputs": [
    {
     "data": {
      "text/plain": [
       "<matplotlib.collections.PathCollection at 0x112a94f98>"
      ]
     },
     "execution_count": 20,
     "metadata": {},
     "output_type": "execute_result"
    },
    {
     "data": {
      "image/png": "[encoded data removed]",
      "text/plain": [
       "<Figure size 432x288 with 1 Axes>"
      ]
     },
     "metadata": {
      "needs_background": "light"
     },
     "output_type": "display_data"
    }
   ],
   "source": [
    "plt.scatter(x,y)"
   ]
  },
  {
   "cell_type": "code",
   "execution_count": 21,
   "metadata": {},
   "outputs": [],
   "source": [
    "X = x.reshape(-1,1)"
   ]
  },
  {
   "cell_type": "code",
   "execution_count": 22,
   "metadata": {},
   "outputs": [
    {
     "data": {
      "text/plain": [
       "array([[1.37567872e+00],\n",
       "       [1.88918267e+00],\n",
       "       [8.85145058e-01],\n",
       "       [1.00415629e+00],\n",
       "       [8.67483419e-01],\n",
       "       [5.64791710e-02],\n",
       "       [1.96705967e+00],\n",
       "       [9.37251313e-01],\n",
       "       [1.87000547e+00],\n",
       "       [1.31158597e+00],\n",
       "       [1.01268204e+00],\n",
       "       [6.71429050e-01],\n",
       "       [2.56923142e-02],\n",
       "       [1.38619135e+00],\n",
       "       [1.78421003e+00],\n",
       "       [1.18389694e+00],\n",
       "       [4.28277144e-01],\n",
       "       [7.77231451e-01],\n",
       "       [2.24828726e-01],\n",
       "       [4.08566624e-01],\n",
       "       [6.86522829e-02],\n",
       "       [1.38452969e+00],\n",
       "       [9.82792462e-01],\n",
       "       [1.09958894e+00],\n",
       "       [7.06608599e-02],\n",
       "       [1.69827280e+00],\n",
       "       [1.43819209e-01],\n",
       "       [1.11609929e+00],\n",
       "       [4.87422366e-01],\n",
       "       [1.14485331e+00],\n",
       "       [1.44580403e+00],\n",
       "       [9.94735614e-01],\n",
       "       [9.30012774e-01],\n",
       "       [1.75133047e+00],\n",
       "       [1.11232136e+00],\n",
       "       [1.36263463e+00],\n",
       "       [1.28735326e+00],\n",
       "       [1.53172954e+00],\n",
       "       [6.72955732e-01],\n",
       "       [4.61061866e-01],\n",
       "       [1.84128997e+00],\n",
       "       [7.65106171e-01],\n",
       "       [1.52620951e+00],\n",
       "       [1.97710660e-02],\n",
       "       [7.34584387e-01],\n",
       "       [1.42963563e+00],\n",
       "       [3.16703256e-01],\n",
       "       [1.06295136e+00],\n",
       "       [2.65824061e-01],\n",
       "       [7.12346449e-01],\n",
       "       [1.52120905e+00],\n",
       "       [4.29595886e-01],\n",
       "       [1.61247581e+00],\n",
       "       [2.49778207e-01],\n",
       "       [4.84755311e-02],\n",
       "       [9.23731110e-02],\n",
       "       [5.91752363e-01],\n",
       "       [1.27069835e+00],\n",
       "       [6.87737980e-01],\n",
       "       [3.35824608e-01],\n",
       "       [1.56066537e+00],\n",
       "       [1.05831539e+00],\n",
       "       [1.81100432e+00],\n",
       "       [1.89442998e+00],\n",
       "       [3.46385970e-01],\n",
       "       [6.93981737e-01],\n",
       "       [1.55243786e+00],\n",
       "       [1.71255896e+00],\n",
       "       [1.64744415e+00],\n",
       "       [9.25549675e-01],\n",
       "       [1.79260386e-01],\n",
       "       [4.73175949e-01],\n",
       "       [3.99564610e-01],\n",
       "       [1.90982372e+00],\n",
       "       [1.45385978e+00],\n",
       "       [1.49198927e+00],\n",
       "       [1.80480584e+00],\n",
       "       [1.45780745e+00],\n",
       "       [9.50207776e-01],\n",
       "       [2.05288389e-02],\n",
       "       [1.78077988e+00],\n",
       "       [1.78101656e+00],\n",
       "       [4.43685103e-01],\n",
       "       [7.26007565e-04],\n",
       "       [2.02571507e-01],\n",
       "       [1.01626496e+00],\n",
       "       [5.98259366e-01],\n",
       "       [1.17260073e+00],\n",
       "       [1.51512949e+00],\n",
       "       [1.49583532e+00],\n",
       "       [3.97708253e-01],\n",
       "       [1.50270318e+00],\n",
       "       [1.38043191e+00],\n",
       "       [1.12833621e+00],\n",
       "       [7.04762099e-02],\n",
       "       [1.63017648e+00],\n",
       "       [2.56623636e-01],\n",
       "       [1.01770458e+00],\n",
       "       [1.85123643e+00],\n",
       "       [1.02600680e+00]])"
      ]
     },
     "execution_count": 22,
     "metadata": {},
     "output_type": "execute_result"
    }
   ],
   "source": [
    "X"
   ]
  },
  {
   "cell_type": "code",
   "execution_count": 23,
   "metadata": {},
   "outputs": [
    {
     "data": {
      "text/plain": [
       "(100, 1)"
      ]
     },
     "execution_count": 23,
     "metadata": {},
     "output_type": "execute_result"
    }
   ],
   "source": [
    "X.shape"
   ]
  },
  {
   "cell_type": "code",
   "execution_count": 24,
   "metadata": {},
   "outputs": [
    {
     "data": {
      "text/plain": [
       "(100,)"
      ]
     },
     "execution_count": 24,
     "metadata": {},
     "output_type": "execute_result"
    }
   ],
   "source": [
    "y.shape"
   ]
  },
  {
   "cell_type": "markdown",
   "metadata": {},
   "source": [
    "m = len(X)"
   ]
  },
  {
   "cell_type": "code",
   "execution_count": 25,
   "metadata": {},
   "outputs": [
    {
     "ename": "NameError",
     "evalue": "name 'm' is not defined",
     "output_type": "error",
     "traceback": [
      "\u001b[0;31m---------------------------------------------------------------------------\u001b[0m",
      "\u001b[0;31mNameError\u001b[0m                                 Traceback (most recent call last)",
      "\u001b[0;32m<ipython-input-25-9a40b379906c>\u001b[0m in \u001b[0;36m<module>\u001b[0;34m\u001b[0m\n\u001b[0;32m----> 1\u001b[0;31m \u001b[0mm\u001b[0m\u001b[0;34m\u001b[0m\u001b[0;34m\u001b[0m\u001b[0m\n\u001b[0m",
      "\u001b[0;31mNameError\u001b[0m: name 'm' is not defined"
     ]
    }
   ],
   "source": [
    "m"
   ]
  },
  {
   "cell_type": "code",
   "execution_count": 26,
   "metadata": {},
   "outputs": [],
   "source": [
    "m = len(X)"
   ]
  },
  {
   "cell_type": "code",
   "execution_count": 27,
   "metadata": {},
   "outputs": [
    {
     "data": {
      "text/plain": [
       "100"
      ]
     },
     "execution_count": 27,
     "metadata": {},
     "output_type": "execute_result"
    }
   ],
   "source": [
    "m"
   ]
  },
  {
   "cell_type": "code",
   "execution_count": 28,
   "metadata": {},
   "outputs": [],
   "source": [
    "def J(theta,X_b,y):\n",
    "    try:\n",
    "        m = len(X)\n",
    "        return (1./m)*np.sum((y - theta.dot(X_b))**2)\n",
    "    except:\n",
    "        return float('inf')"
   ]
  },
  {
   "cell_type": "code",
   "execution_count": 32,
   "metadata": {},
   "outputs": [
    {
     "ename": "TypeError",
     "evalue": "hstack() takes 1 positional argument but 2 were given",
     "output_type": "error",
     "traceback": [
      "\u001b[0;31m---------------------------------------------------------------------------\u001b[0m",
      "\u001b[0;31mTypeError\u001b[0m                                 Traceback (most recent call last)",
      "\u001b[0;32m<ipython-input-32-85411d2ed51b>\u001b[0m in \u001b[0;36m<module>\u001b[0;34m\u001b[0m\n\u001b[0;32m----> 1\u001b[0;31m \u001b[0mX_b\u001b[0m \u001b[0;34m=\u001b[0m \u001b[0mnp\u001b[0m\u001b[0;34m.\u001b[0m\u001b[0mhstack\u001b[0m\u001b[0;34m(\u001b[0m\u001b[0;36m1\u001b[0m\u001b[0;34m,\u001b[0m\u001b[0mX\u001b[0m\u001b[0;34m)\u001b[0m\u001b[0;34m\u001b[0m\u001b[0;34m\u001b[0m\u001b[0m\n\u001b[0m",
      "\u001b[0;31mTypeError\u001b[0m: hstack() takes 1 positional argument but 2 were given"
     ]
    }
   ],
   "source": [
    "X_b = np.hstack(1,X)"
   ]
  },
  {
   "cell_type": "code",
   "execution_count": 33,
   "metadata": {},
   "outputs": [
    {
     "ename": "ValueError",
     "evalue": "all the input arrays must have same number of dimensions",
     "output_type": "error",
     "traceback": [
      "\u001b[0;31m---------------------------------------------------------------------------\u001b[0m",
      "\u001b[0;31mValueError\u001b[0m                                Traceback (most recent call last)",
      "\u001b[0;32m<ipython-input-33-2c84b5843b65>\u001b[0m in \u001b[0;36m<module>\u001b[0;34m\u001b[0m\n\u001b[0;32m----> 1\u001b[0;31m \u001b[0mX_b\u001b[0m \u001b[0;34m=\u001b[0m \u001b[0mnp\u001b[0m\u001b[0;34m.\u001b[0m\u001b[0mhstack\u001b[0m\u001b[0;34m(\u001b[0m\u001b[0;34m(\u001b[0m\u001b[0;36m1\u001b[0m\u001b[0;34m,\u001b[0m\u001b[0mX\u001b[0m\u001b[0;34m)\u001b[0m\u001b[0;34m)\u001b[0m\u001b[0;34m\u001b[0m\u001b[0;34m\u001b[0m\u001b[0m\n\u001b[0m",
      "\u001b[0;32m/usr/local/lib/python3.7/site-packages/numpy/core/shape_base.py\u001b[0m in \u001b[0;36mhstack\u001b[0;34m(tup)\u001b[0m\n\u001b[1;32m    336\u001b[0m     \u001b[0;31m# As a special case, dimension 0 of 1-dimensional arrays is \"horizontal\"\u001b[0m\u001b[0;34m\u001b[0m\u001b[0;34m\u001b[0m\u001b[0;34m\u001b[0m\u001b[0m\n\u001b[1;32m    337\u001b[0m     \u001b[0;32mif\u001b[0m \u001b[0marrs\u001b[0m \u001b[0;32mand\u001b[0m \u001b[0marrs\u001b[0m\u001b[0;34m[\u001b[0m\u001b[0;36m0\u001b[0m\u001b[0;34m]\u001b[0m\u001b[0;34m.\u001b[0m\u001b[0mndim\u001b[0m \u001b[0;34m==\u001b[0m \u001b[0;36m1\u001b[0m\u001b[0;34m:\u001b[0m\u001b[0;34m\u001b[0m\u001b[0;34m\u001b[0m\u001b[0m\n\u001b[0;32m--> 338\u001b[0;31m         \u001b[0;32mreturn\u001b[0m \u001b[0m_nx\u001b[0m\u001b[0;34m.\u001b[0m\u001b[0mconcatenate\u001b[0m\u001b[0;34m(\u001b[0m\u001b[0marrs\u001b[0m\u001b[0;34m,\u001b[0m \u001b[0;36m0\u001b[0m\u001b[0;34m)\u001b[0m\u001b[0;34m\u001b[0m\u001b[0;34m\u001b[0m\u001b[0m\n\u001b[0m\u001b[1;32m    339\u001b[0m     \u001b[0;32melse\u001b[0m\u001b[0;34m:\u001b[0m\u001b[0;34m\u001b[0m\u001b[0;34m\u001b[0m\u001b[0m\n\u001b[1;32m    340\u001b[0m         \u001b[0;32mreturn\u001b[0m \u001b[0m_nx\u001b[0m\u001b[0;34m.\u001b[0m\u001b[0mconcatenate\u001b[0m\u001b[0;34m(\u001b[0m\u001b[0marrs\u001b[0m\u001b[0;34m,\u001b[0m \u001b[0;36m1\u001b[0m\u001b[0;34m)\u001b[0m\u001b[0;34m\u001b[0m\u001b[0;34m\u001b[0m\u001b[0m\n",
      "\u001b[0;31mValueError\u001b[0m: all the input arrays must have same number of dimensions"
     ]
    }
   ],
   "source": [
    "X_b = np.hstack((1,X))"
   ]
  },
  {
   "cell_type": "code",
   "execution_count": 34,
   "metadata": {},
   "outputs": [
    {
     "ename": "NameError",
     "evalue": "name 'X_b' is not defined",
     "output_type": "error",
     "traceback": [
      "\u001b[0;31m---------------------------------------------------------------------------\u001b[0m",
      "\u001b[0;31mNameError\u001b[0m                                 Traceback (most recent call last)",
      "\u001b[0;32m<ipython-input-34-cf63c8cf1feb>\u001b[0m in \u001b[0;36m<module>\u001b[0;34m\u001b[0m\n\u001b[0;32m----> 1\u001b[0;31m \u001b[0mX_b\u001b[0m\u001b[0;34m\u001b[0m\u001b[0;34m\u001b[0m\u001b[0m\n\u001b[0m",
      "\u001b[0;31mNameError\u001b[0m: name 'X_b' is not defined"
     ]
    }
   ],
   "source": [
    "X_b"
   ]
  },
  {
   "cell_type": "code",
   "execution_count": 35,
   "metadata": {},
   "outputs": [
    {
     "data": {
      "text/plain": [
       "array([[1.37567872e+00],\n",
       "       [1.88918267e+00],\n",
       "       [8.85145058e-01],\n",
       "       [1.00415629e+00],\n",
       "       [8.67483419e-01],\n",
       "       [5.64791710e-02],\n",
       "       [1.96705967e+00],\n",
       "       [9.37251313e-01],\n",
       "       [1.87000547e+00],\n",
       "       [1.31158597e+00],\n",
       "       [1.01268204e+00],\n",
       "       [6.71429050e-01],\n",
       "       [2.56923142e-02],\n",
       "       [1.38619135e+00],\n",
       "       [1.78421003e+00],\n",
       "       [1.18389694e+00],\n",
       "       [4.28277144e-01],\n",
       "       [7.77231451e-01],\n",
       "       [2.24828726e-01],\n",
       "       [4.08566624e-01],\n",
       "       [6.86522829e-02],\n",
       "       [1.38452969e+00],\n",
       "       [9.82792462e-01],\n",
       "       [1.09958894e+00],\n",
       "       [7.06608599e-02],\n",
       "       [1.69827280e+00],\n",
       "       [1.43819209e-01],\n",
       "       [1.11609929e+00],\n",
       "       [4.87422366e-01],\n",
       "       [1.14485331e+00],\n",
       "       [1.44580403e+00],\n",
       "       [9.94735614e-01],\n",
       "       [9.30012774e-01],\n",
       "       [1.75133047e+00],\n",
       "       [1.11232136e+00],\n",
       "       [1.36263463e+00],\n",
       "       [1.28735326e+00],\n",
       "       [1.53172954e+00],\n",
       "       [6.72955732e-01],\n",
       "       [4.61061866e-01],\n",
       "       [1.84128997e+00],\n",
       "       [7.65106171e-01],\n",
       "       [1.52620951e+00],\n",
       "       [1.97710660e-02],\n",
       "       [7.34584387e-01],\n",
       "       [1.42963563e+00],\n",
       "       [3.16703256e-01],\n",
       "       [1.06295136e+00],\n",
       "       [2.65824061e-01],\n",
       "       [7.12346449e-01],\n",
       "       [1.52120905e+00],\n",
       "       [4.29595886e-01],\n",
       "       [1.61247581e+00],\n",
       "       [2.49778207e-01],\n",
       "       [4.84755311e-02],\n",
       "       [9.23731110e-02],\n",
       "       [5.91752363e-01],\n",
       "       [1.27069835e+00],\n",
       "       [6.87737980e-01],\n",
       "       [3.35824608e-01],\n",
       "       [1.56066537e+00],\n",
       "       [1.05831539e+00],\n",
       "       [1.81100432e+00],\n",
       "       [1.89442998e+00],\n",
       "       [3.46385970e-01],\n",
       "       [6.93981737e-01],\n",
       "       [1.55243786e+00],\n",
       "       [1.71255896e+00],\n",
       "       [1.64744415e+00],\n",
       "       [9.25549675e-01],\n",
       "       [1.79260386e-01],\n",
       "       [4.73175949e-01],\n",
       "       [3.99564610e-01],\n",
       "       [1.90982372e+00],\n",
       "       [1.45385978e+00],\n",
       "       [1.49198927e+00],\n",
       "       [1.80480584e+00],\n",
       "       [1.45780745e+00],\n",
       "       [9.50207776e-01],\n",
       "       [2.05288389e-02],\n",
       "       [1.78077988e+00],\n",
       "       [1.78101656e+00],\n",
       "       [4.43685103e-01],\n",
       "       [7.26007565e-04],\n",
       "       [2.02571507e-01],\n",
       "       [1.01626496e+00],\n",
       "       [5.98259366e-01],\n",
       "       [1.17260073e+00],\n",
       "       [1.51512949e+00],\n",
       "       [1.49583532e+00],\n",
       "       [3.97708253e-01],\n",
       "       [1.50270318e+00],\n",
       "       [1.38043191e+00],\n",
       "       [1.12833621e+00],\n",
       "       [7.04762099e-02],\n",
       "       [1.63017648e+00],\n",
       "       [2.56623636e-01],\n",
       "       [1.01770458e+00],\n",
       "       [1.85123643e+00],\n",
       "       [1.02600680e+00]])"
      ]
     },
     "execution_count": 35,
     "metadata": {},
     "output_type": "execute_result"
    }
   ],
   "source": [
    "X"
   ]
  },
  {
   "cell_type": "code",
   "execution_count": 36,
   "metadata": {},
   "outputs": [
    {
     "data": {
      "text/plain": [
       "100"
      ]
     },
     "execution_count": 36,
     "metadata": {},
     "output_type": "execute_result"
    }
   ],
   "source": [
    "len(X)"
   ]
  },
  {
   "cell_type": "code",
   "execution_count": 37,
   "metadata": {},
   "outputs": [
    {
     "data": {
      "text/plain": [
       "1"
      ]
     },
     "execution_count": 37,
     "metadata": {},
     "output_type": "execute_result"
    }
   ],
   "source": [
    "len(X[0])"
   ]
  },
  {
   "cell_type": "code",
   "execution_count": 38,
   "metadata": {},
   "outputs": [
    {
     "ename": "TypeError",
     "evalue": "data type not understood",
     "output_type": "error",
     "traceback": [
      "\u001b[0;31m---------------------------------------------------------------------------\u001b[0m",
      "\u001b[0;31mTypeError\u001b[0m                                 Traceback (most recent call last)",
      "\u001b[0;32m<ipython-input-38-6b52a65464e2>\u001b[0m in \u001b[0;36m<module>\u001b[0;34m\u001b[0m\n\u001b[0;32m----> 1\u001b[0;31m \u001b[0mnp\u001b[0m\u001b[0;34m.\u001b[0m\u001b[0marray\u001b[0m\u001b[0;34m(\u001b[0m\u001b[0mlen\u001b[0m\u001b[0;34m(\u001b[0m\u001b[0mX\u001b[0m\u001b[0;34m)\u001b[0m\u001b[0;34m,\u001b[0m\u001b[0;36m0\u001b[0m\u001b[0;34m)\u001b[0m\u001b[0;34m\u001b[0m\u001b[0;34m\u001b[0m\u001b[0m\n\u001b[0m",
      "\u001b[0;31mTypeError\u001b[0m: data type not understood"
     ]
    }
   ],
   "source": [
    "np.array(len(X),0)"
   ]
  },
  {
   "cell_type": "code",
   "execution_count": 39,
   "metadata": {},
   "outputs": [
    {
     "data": {
      "text/plain": [
       "array([0, 0, 0, 0, 0, 0, 0, 0, 0, 0, 0, 0, 0, 0, 0, 0, 0, 0, 0, 0, 0, 0,\n",
       "       0, 0, 0, 0, 0, 0, 0, 0, 0, 0, 0, 0, 0, 0, 0, 0, 0, 0, 0, 0, 0, 0,\n",
       "       0, 0, 0, 0, 0, 0, 0, 0, 0, 0, 0, 0, 0, 0, 0, 0, 0, 0, 0, 0, 0, 0,\n",
       "       0, 0, 0, 0, 0, 0, 0, 0, 0, 0, 0, 0, 0, 0, 0, 0, 0, 0, 0, 0, 0, 0,\n",
       "       0, 0, 0, 0, 0, 0, 0, 0, 0, 0, 0, 0])"
      ]
     },
     "execution_count": 39,
     "metadata": {},
     "output_type": "execute_result"
    }
   ],
   "source": [
    "np.full(len(X),0)"
   ]
  },
  {
   "cell_type": "code",
   "execution_count": 40,
   "metadata": {},
   "outputs": [
    {
     "ename": "SyntaxError",
     "evalue": "invalid syntax (<ipython-input-40-dd9f5018f5db>, line 1)",
     "output_type": "error",
     "traceback": [
      "\u001b[0;36m  File \u001b[0;32m\"<ipython-input-40-dd9f5018f5db>\"\u001b[0;36m, line \u001b[0;32m1\u001b[0m\n\u001b[0;31m    X_0 = _.reshape(:,1)\u001b[0m\n\u001b[0m                    ^\u001b[0m\n\u001b[0;31mSyntaxError\u001b[0m\u001b[0;31m:\u001b[0m invalid syntax\n"
     ]
    }
   ],
   "source": [
    "X_0 = _.reshape(:,1)"
   ]
  },
  {
   "cell_type": "code",
   "execution_count": 42,
   "metadata": {},
   "outputs": [],
   "source": [
    "X_0 = np.full(len(X),0).reshape(-1,1)"
   ]
  },
  {
   "cell_type": "code",
   "execution_count": 43,
   "metadata": {},
   "outputs": [
    {
     "data": {
      "text/plain": [
       "array([[0],\n",
       "       [0],\n",
       "       [0],\n",
       "       [0],\n",
       "       [0],\n",
       "       [0],\n",
       "       [0],\n",
       "       [0],\n",
       "       [0],\n",
       "       [0],\n",
       "       [0],\n",
       "       [0],\n",
       "       [0],\n",
       "       [0],\n",
       "       [0],\n",
       "       [0],\n",
       "       [0],\n",
       "       [0],\n",
       "       [0],\n",
       "       [0],\n",
       "       [0],\n",
       "       [0],\n",
       "       [0],\n",
       "       [0],\n",
       "       [0],\n",
       "       [0],\n",
       "       [0],\n",
       "       [0],\n",
       "       [0],\n",
       "       [0],\n",
       "       [0],\n",
       "       [0],\n",
       "       [0],\n",
       "       [0],\n",
       "       [0],\n",
       "       [0],\n",
       "       [0],\n",
       "       [0],\n",
       "       [0],\n",
       "       [0],\n",
       "       [0],\n",
       "       [0],\n",
       "       [0],\n",
       "       [0],\n",
       "       [0],\n",
       "       [0],\n",
       "       [0],\n",
       "       [0],\n",
       "       [0],\n",
       "       [0],\n",
       "       [0],\n",
       "       [0],\n",
       "       [0],\n",
       "       [0],\n",
       "       [0],\n",
       "       [0],\n",
       "       [0],\n",
       "       [0],\n",
       "       [0],\n",
       "       [0],\n",
       "       [0],\n",
       "       [0],\n",
       "       [0],\n",
       "       [0],\n",
       "       [0],\n",
       "       [0],\n",
       "       [0],\n",
       "       [0],\n",
       "       [0],\n",
       "       [0],\n",
       "       [0],\n",
       "       [0],\n",
       "       [0],\n",
       "       [0],\n",
       "       [0],\n",
       "       [0],\n",
       "       [0],\n",
       "       [0],\n",
       "       [0],\n",
       "       [0],\n",
       "       [0],\n",
       "       [0],\n",
       "       [0],\n",
       "       [0],\n",
       "       [0],\n",
       "       [0],\n",
       "       [0],\n",
       "       [0],\n",
       "       [0],\n",
       "       [0],\n",
       "       [0],\n",
       "       [0],\n",
       "       [0],\n",
       "       [0],\n",
       "       [0],\n",
       "       [0],\n",
       "       [0],\n",
       "       [0],\n",
       "       [0],\n",
       "       [0]])"
      ]
     },
     "execution_count": 43,
     "metadata": {},
     "output_type": "execute_result"
    }
   ],
   "source": [
    "X_0"
   ]
  },
  {
   "cell_type": "code",
   "execution_count": 44,
   "metadata": {},
   "outputs": [],
   "source": [
    "X_0 = np.full(len(X),1).reshape(-1,1)"
   ]
  },
  {
   "cell_type": "code",
   "execution_count": 45,
   "metadata": {},
   "outputs": [
    {
     "data": {
      "text/plain": [
       "array([[1],\n",
       "       [1],\n",
       "       [1],\n",
       "       [1],\n",
       "       [1],\n",
       "       [1],\n",
       "       [1],\n",
       "       [1],\n",
       "       [1],\n",
       "       [1],\n",
       "       [1],\n",
       "       [1],\n",
       "       [1],\n",
       "       [1],\n",
       "       [1],\n",
       "       [1],\n",
       "       [1],\n",
       "       [1],\n",
       "       [1],\n",
       "       [1],\n",
       "       [1],\n",
       "       [1],\n",
       "       [1],\n",
       "       [1],\n",
       "       [1],\n",
       "       [1],\n",
       "       [1],\n",
       "       [1],\n",
       "       [1],\n",
       "       [1],\n",
       "       [1],\n",
       "       [1],\n",
       "       [1],\n",
       "       [1],\n",
       "       [1],\n",
       "       [1],\n",
       "       [1],\n",
       "       [1],\n",
       "       [1],\n",
       "       [1],\n",
       "       [1],\n",
       "       [1],\n",
       "       [1],\n",
       "       [1],\n",
       "       [1],\n",
       "       [1],\n",
       "       [1],\n",
       "       [1],\n",
       "       [1],\n",
       "       [1],\n",
       "       [1],\n",
       "       [1],\n",
       "       [1],\n",
       "       [1],\n",
       "       [1],\n",
       "       [1],\n",
       "       [1],\n",
       "       [1],\n",
       "       [1],\n",
       "       [1],\n",
       "       [1],\n",
       "       [1],\n",
       "       [1],\n",
       "       [1],\n",
       "       [1],\n",
       "       [1],\n",
       "       [1],\n",
       "       [1],\n",
       "       [1],\n",
       "       [1],\n",
       "       [1],\n",
       "       [1],\n",
       "       [1],\n",
       "       [1],\n",
       "       [1],\n",
       "       [1],\n",
       "       [1],\n",
       "       [1],\n",
       "       [1],\n",
       "       [1],\n",
       "       [1],\n",
       "       [1],\n",
       "       [1],\n",
       "       [1],\n",
       "       [1],\n",
       "       [1],\n",
       "       [1],\n",
       "       [1],\n",
       "       [1],\n",
       "       [1],\n",
       "       [1],\n",
       "       [1],\n",
       "       [1],\n",
       "       [1],\n",
       "       [1],\n",
       "       [1],\n",
       "       [1],\n",
       "       [1],\n",
       "       [1],\n",
       "       [1]])"
      ]
     },
     "execution_count": 45,
     "metadata": {},
     "output_type": "execute_result"
    }
   ],
   "source": [
    "X_0"
   ]
  },
  {
   "cell_type": "code",
   "execution_count": 46,
   "metadata": {},
   "outputs": [
    {
     "ename": "TypeError",
     "evalue": "hstack() takes 1 positional argument but 2 were given",
     "output_type": "error",
     "traceback": [
      "\u001b[0;31m---------------------------------------------------------------------------\u001b[0m",
      "\u001b[0;31mTypeError\u001b[0m                                 Traceback (most recent call last)",
      "\u001b[0;32m<ipython-input-46-f3cd7f7376ec>\u001b[0m in \u001b[0;36m<module>\u001b[0;34m\u001b[0m\n\u001b[0;32m----> 1\u001b[0;31m \u001b[0mX_b\u001b[0m \u001b[0;34m=\u001b[0m \u001b[0mnp\u001b[0m\u001b[0;34m.\u001b[0m\u001b[0mhstack\u001b[0m\u001b[0;34m(\u001b[0m\u001b[0mX_0\u001b[0m\u001b[0;34m,\u001b[0m\u001b[0mX\u001b[0m\u001b[0;34m)\u001b[0m\u001b[0;34m\u001b[0m\u001b[0;34m\u001b[0m\u001b[0m\n\u001b[0m",
      "\u001b[0;31mTypeError\u001b[0m: hstack() takes 1 positional argument but 2 were given"
     ]
    }
   ],
   "source": [
    "X_b = np.hstack(X_0,X)"
   ]
  },
  {
   "cell_type": "code",
   "execution_count": 47,
   "metadata": {},
   "outputs": [],
   "source": [
    "X_b = np.hstack((X_0,X))"
   ]
  },
  {
   "cell_type": "code",
   "execution_count": 48,
   "metadata": {},
   "outputs": [
    {
     "data": {
      "text/plain": [
       "array([[1.00000000e+00, 1.37567872e+00],\n",
       "       [1.00000000e+00, 1.88918267e+00],\n",
       "       [1.00000000e+00, 8.85145058e-01],\n",
       "       [1.00000000e+00, 1.00415629e+00],\n",
       "       [1.00000000e+00, 8.67483419e-01],\n",
       "       [1.00000000e+00, 5.64791710e-02],\n",
       "       [1.00000000e+00, 1.96705967e+00],\n",
       "       [1.00000000e+00, 9.37251313e-01],\n",
       "       [1.00000000e+00, 1.87000547e+00],\n",
       "       [1.00000000e+00, 1.31158597e+00],\n",
       "       [1.00000000e+00, 1.01268204e+00],\n",
       "       [1.00000000e+00, 6.71429050e-01],\n",
       "       [1.00000000e+00, 2.56923142e-02],\n",
       "       [1.00000000e+00, 1.38619135e+00],\n",
       "       [1.00000000e+00, 1.78421003e+00],\n",
       "       [1.00000000e+00, 1.18389694e+00],\n",
       "       [1.00000000e+00, 4.28277144e-01],\n",
       "       [1.00000000e+00, 7.77231451e-01],\n",
       "       [1.00000000e+00, 2.24828726e-01],\n",
       "       [1.00000000e+00, 4.08566624e-01],\n",
       "       [1.00000000e+00, 6.86522829e-02],\n",
       "       [1.00000000e+00, 1.38452969e+00],\n",
       "       [1.00000000e+00, 9.82792462e-01],\n",
       "       [1.00000000e+00, 1.09958894e+00],\n",
       "       [1.00000000e+00, 7.06608599e-02],\n",
       "       [1.00000000e+00, 1.69827280e+00],\n",
       "       [1.00000000e+00, 1.43819209e-01],\n",
       "       [1.00000000e+00, 1.11609929e+00],\n",
       "       [1.00000000e+00, 4.87422366e-01],\n",
       "       [1.00000000e+00, 1.14485331e+00],\n",
       "       [1.00000000e+00, 1.44580403e+00],\n",
       "       [1.00000000e+00, 9.94735614e-01],\n",
       "       [1.00000000e+00, 9.30012774e-01],\n",
       "       [1.00000000e+00, 1.75133047e+00],\n",
       "       [1.00000000e+00, 1.11232136e+00],\n",
       "       [1.00000000e+00, 1.36263463e+00],\n",
       "       [1.00000000e+00, 1.28735326e+00],\n",
       "       [1.00000000e+00, 1.53172954e+00],\n",
       "       [1.00000000e+00, 6.72955732e-01],\n",
       "       [1.00000000e+00, 4.61061866e-01],\n",
       "       [1.00000000e+00, 1.84128997e+00],\n",
       "       [1.00000000e+00, 7.65106171e-01],\n",
       "       [1.00000000e+00, 1.52620951e+00],\n",
       "       [1.00000000e+00, 1.97710660e-02],\n",
       "       [1.00000000e+00, 7.34584387e-01],\n",
       "       [1.00000000e+00, 1.42963563e+00],\n",
       "       [1.00000000e+00, 3.16703256e-01],\n",
       "       [1.00000000e+00, 1.06295136e+00],\n",
       "       [1.00000000e+00, 2.65824061e-01],\n",
       "       [1.00000000e+00, 7.12346449e-01],\n",
       "       [1.00000000e+00, 1.52120905e+00],\n",
       "       [1.00000000e+00, 4.29595886e-01],\n",
       "       [1.00000000e+00, 1.61247581e+00],\n",
       "       [1.00000000e+00, 2.49778207e-01],\n",
       "       [1.00000000e+00, 4.84755311e-02],\n",
       "       [1.00000000e+00, 9.23731110e-02],\n",
       "       [1.00000000e+00, 5.91752363e-01],\n",
       "       [1.00000000e+00, 1.27069835e+00],\n",
       "       [1.00000000e+00, 6.87737980e-01],\n",
       "       [1.00000000e+00, 3.35824608e-01],\n",
       "       [1.00000000e+00, 1.56066537e+00],\n",
       "       [1.00000000e+00, 1.05831539e+00],\n",
       "       [1.00000000e+00, 1.81100432e+00],\n",
       "       [1.00000000e+00, 1.89442998e+00],\n",
       "       [1.00000000e+00, 3.46385970e-01],\n",
       "       [1.00000000e+00, 6.93981737e-01],\n",
       "       [1.00000000e+00, 1.55243786e+00],\n",
       "       [1.00000000e+00, 1.71255896e+00],\n",
       "       [1.00000000e+00, 1.64744415e+00],\n",
       "       [1.00000000e+00, 9.25549675e-01],\n",
       "       [1.00000000e+00, 1.79260386e-01],\n",
       "       [1.00000000e+00, 4.73175949e-01],\n",
       "       [1.00000000e+00, 3.99564610e-01],\n",
       "       [1.00000000e+00, 1.90982372e+00],\n",
       "       [1.00000000e+00, 1.45385978e+00],\n",
       "       [1.00000000e+00, 1.49198927e+00],\n",
       "       [1.00000000e+00, 1.80480584e+00],\n",
       "       [1.00000000e+00, 1.45780745e+00],\n",
       "       [1.00000000e+00, 9.50207776e-01],\n",
       "       [1.00000000e+00, 2.05288389e-02],\n",
       "       [1.00000000e+00, 1.78077988e+00],\n",
       "       [1.00000000e+00, 1.78101656e+00],\n",
       "       [1.00000000e+00, 4.43685103e-01],\n",
       "       [1.00000000e+00, 7.26007565e-04],\n",
       "       [1.00000000e+00, 2.02571507e-01],\n",
       "       [1.00000000e+00, 1.01626496e+00],\n",
       "       [1.00000000e+00, 5.98259366e-01],\n",
       "       [1.00000000e+00, 1.17260073e+00],\n",
       "       [1.00000000e+00, 1.51512949e+00],\n",
       "       [1.00000000e+00, 1.49583532e+00],\n",
       "       [1.00000000e+00, 3.97708253e-01],\n",
       "       [1.00000000e+00, 1.50270318e+00],\n",
       "       [1.00000000e+00, 1.38043191e+00],\n",
       "       [1.00000000e+00, 1.12833621e+00],\n",
       "       [1.00000000e+00, 7.04762099e-02],\n",
       "       [1.00000000e+00, 1.63017648e+00],\n",
       "       [1.00000000e+00, 2.56623636e-01],\n",
       "       [1.00000000e+00, 1.01770458e+00],\n",
       "       [1.00000000e+00, 1.85123643e+00],\n",
       "       [1.00000000e+00, 1.02600680e+00]])"
      ]
     },
     "execution_count": 48,
     "metadata": {},
     "output_type": "execute_result"
    }
   ],
   "source": [
    "X_b"
   ]
  },
  {
   "cell_type": "code",
   "execution_count": 49,
   "metadata": {},
   "outputs": [
    {
     "ename": "TypeError",
     "evalue": "data type not understood",
     "output_type": "error",
     "traceback": [
      "\u001b[0;31m---------------------------------------------------------------------------\u001b[0m",
      "\u001b[0;31mTypeError\u001b[0m                                 Traceback (most recent call last)",
      "\u001b[0;32m<ipython-input-49-7e0d3b9a4aa2>\u001b[0m in \u001b[0;36m<module>\u001b[0;34m\u001b[0m\n\u001b[0;32m----> 1\u001b[0;31m \u001b[0mtheta\u001b[0m \u001b[0;34m=\u001b[0m \u001b[0mnp\u001b[0m\u001b[0;34m.\u001b[0m\u001b[0marray\u001b[0m\u001b[0;34m(\u001b[0m\u001b[0;36m0\u001b[0m\u001b[0;34m,\u001b[0m\u001b[0;36m0\u001b[0m\u001b[0;34m)\u001b[0m\u001b[0;34m\u001b[0m\u001b[0;34m\u001b[0m\u001b[0m\n\u001b[0m",
      "\u001b[0;31mTypeError\u001b[0m: data type not understood"
     ]
    }
   ],
   "source": [
    "theta = np.array(0,0)"
   ]
  },
  {
   "cell_type": "code",
   "execution_count": 50,
   "metadata": {},
   "outputs": [
    {
     "ename": "TypeError",
     "evalue": "data type not understood",
     "output_type": "error",
     "traceback": [
      "\u001b[0;31m---------------------------------------------------------------------------\u001b[0m",
      "\u001b[0;31mTypeError\u001b[0m                                 Traceback (most recent call last)",
      "\u001b[0;32m<ipython-input-50-ea744ba7a23f>\u001b[0m in \u001b[0;36m<module>\u001b[0;34m\u001b[0m\n\u001b[0;32m----> 1\u001b[0;31m \u001b[0mtheta\u001b[0m \u001b[0;34m=\u001b[0m \u001b[0mnp\u001b[0m\u001b[0;34m.\u001b[0m\u001b[0marray\u001b[0m\u001b[0;34m(\u001b[0m\u001b[0;36m0.\u001b[0m\u001b[0;34m,\u001b[0m\u001b[0;36m0.\u001b[0m\u001b[0;34m)\u001b[0m\u001b[0;34m\u001b[0m\u001b[0;34m\u001b[0m\u001b[0m\n\u001b[0m",
      "\u001b[0;31mTypeError\u001b[0m: data type not understood"
     ]
    }
   ],
   "source": [
    "theta = np.array(0.,0.)"
   ]
  },
  {
   "cell_type": "code",
   "execution_count": 51,
   "metadata": {},
   "outputs": [],
   "source": [
    "theta = np.array([0.,0.])"
   ]
  },
  {
   "cell_type": "code",
   "execution_count": 52,
   "metadata": {},
   "outputs": [
    {
     "data": {
      "text/plain": [
       "array([0., 0.])"
      ]
     },
     "execution_count": 52,
     "metadata": {},
     "output_type": "execute_result"
    }
   ],
   "source": [
    "theta"
   ]
  },
  {
   "cell_type": "code",
   "execution_count": 53,
   "metadata": {},
   "outputs": [
    {
     "data": {
      "text/plain": [
       "array([0., 0., 0., 0., 0., 0., 0., 0., 0., 0., 0., 0., 0., 0., 0., 0., 0.,\n",
       "       0., 0., 0., 0., 0., 0., 0., 0., 0., 0., 0., 0., 0., 0., 0., 0., 0.,\n",
       "       0., 0., 0., 0., 0., 0., 0., 0., 0., 0., 0., 0., 0., 0., 0., 0., 0.,\n",
       "       0., 0., 0., 0., 0., 0., 0., 0., 0., 0., 0., 0., 0., 0., 0., 0., 0.,\n",
       "       0., 0., 0., 0., 0., 0., 0., 0., 0., 0., 0., 0., 0., 0., 0., 0., 0.,\n",
       "       0., 0., 0., 0., 0., 0., 0., 0., 0., 0., 0., 0., 0., 0., 0.])"
      ]
     },
     "execution_count": 53,
     "metadata": {},
     "output_type": "execute_result"
    }
   ],
   "source": [
    "X_b.dot(theta)"
   ]
  },
  {
   "cell_type": "code",
   "execution_count": 54,
   "metadata": {},
   "outputs": [
    {
     "ename": "ValueError",
     "evalue": "shapes (2,) and (100,2) not aligned: 2 (dim 0) != 100 (dim 0)",
     "output_type": "error",
     "traceback": [
      "\u001b[0;31m---------------------------------------------------------------------------\u001b[0m",
      "\u001b[0;31mValueError\u001b[0m                                Traceback (most recent call last)",
      "\u001b[0;32m<ipython-input-54-bc1c665670d8>\u001b[0m in \u001b[0;36m<module>\u001b[0;34m\u001b[0m\n\u001b[0;32m----> 1\u001b[0;31m \u001b[0mtheta\u001b[0m\u001b[0;34m.\u001b[0m\u001b[0mdot\u001b[0m\u001b[0;34m(\u001b[0m\u001b[0mX_b\u001b[0m\u001b[0;34m)\u001b[0m\u001b[0;34m\u001b[0m\u001b[0;34m\u001b[0m\u001b[0m\n\u001b[0m",
      "\u001b[0;31mValueError\u001b[0m: shapes (2,) and (100,2) not aligned: 2 (dim 0) != 100 (dim 0)"
     ]
    }
   ],
   "source": [
    "theta.dot(X_b)"
   ]
  },
  {
   "cell_type": "code",
   "execution_count": 55,
   "metadata": {},
   "outputs": [
    {
     "data": {
      "text/plain": [
       "array([0., 0.])"
      ]
     },
     "execution_count": 55,
     "metadata": {},
     "output_type": "execute_result"
    }
   ],
   "source": [
    "theta"
   ]
  },
  {
   "cell_type": "code",
   "execution_count": 56,
   "metadata": {},
   "outputs": [
    {
     "data": {
      "text/plain": [
       "array([0., 0.])"
      ]
     },
     "execution_count": 56,
     "metadata": {},
     "output_type": "execute_result"
    }
   ],
   "source": [
    "theta**2"
   ]
  },
  {
   "cell_type": "code",
   "execution_count": 57,
   "metadata": {},
   "outputs": [],
   "source": [
    "theta = np.array([1.,1.])"
   ]
  },
  {
   "cell_type": "code",
   "execution_count": 58,
   "metadata": {},
   "outputs": [
    {
     "data": {
      "text/plain": [
       "array([1., 1.])"
      ]
     },
     "execution_count": 58,
     "metadata": {},
     "output_type": "execute_result"
    }
   ],
   "source": [
    "theta**2"
   ]
  },
  {
   "cell_type": "code",
   "execution_count": 59,
   "metadata": {},
   "outputs": [],
   "source": [
    "theta = np.array([2.,1.])"
   ]
  },
  {
   "cell_type": "code",
   "execution_count": 60,
   "metadata": {},
   "outputs": [
    {
     "data": {
      "text/plain": [
       "array([4., 1.])"
      ]
     },
     "execution_count": 60,
     "metadata": {},
     "output_type": "execute_result"
    }
   ],
   "source": [
    "theta**2"
   ]
  },
  {
   "cell_type": "code",
   "execution_count": 61,
   "metadata": {},
   "outputs": [
    {
     "data": {
      "text/plain": [
       "5.0"
      ]
     },
     "execution_count": 61,
     "metadata": {},
     "output_type": "execute_result"
    }
   ],
   "source": [
    "theta.dot(theta)"
   ]
  },
  {
   "cell_type": "code",
   "execution_count": 62,
   "metadata": {},
   "outputs": [],
   "source": [
    "def J(theta,X_b,y):\n",
    "    m = len(X_b)\n",
    "    return (1./m)*np.sum((y-X_b.dot(theta))**2)"
   ]
  },
  {
   "cell_type": "code",
   "execution_count": 87,
   "metadata": {},
   "outputs": [],
   "source": [
    "def dJ(theta,X_b,y):\n",
    "    m = len(X_b)\n",
    "    n = len(theta)\n",
    "    res = np.empty(n)\n",
    "    for t in range(0,n):\n",
    "        res[t] = (2./m) * np.sum([((theta.dot(X_b[i])-y[i])*X_b[i][t]) for i in range(1,m)])\n",
    "    return res"
   ]
  },
  {
   "cell_type": "code",
   "execution_count": 81,
   "metadata": {},
   "outputs": [],
   "source": [
    "theta = np.array([0,0])"
   ]
  },
  {
   "cell_type": "code",
   "execution_count": 82,
   "metadata": {},
   "outputs": [
    {
     "name": "stdout",
     "output_type": "stream",
     "text": [
      "t=0,res[t]=-14.009522936464128\n",
      "t=1,res[t]=-15.881756834107373\n"
     ]
    },
    {
     "data": {
      "text/plain": [
       "array([-14.00952294, -15.88175683])"
      ]
     },
     "execution_count": 82,
     "metadata": {},
     "output_type": "execute_result"
    }
   ],
   "source": [
    "dJ(theta,X_b,y)"
   ]
  },
  {
   "cell_type": "code",
   "execution_count": 88,
   "metadata": {},
   "outputs": [
    {
     "name": "stdout",
     "output_type": "stream",
     "text": [
      "theta=[1.40095229 1.58817568],lost=18.712339594627892\n",
      "theta=[2.21461723 2.48875089],lost=6.971588718249213\n",
      "theta=[2.69144835 2.995665  ],lost=3.1105969656312213\n",
      "theta=[2.97495336 3.27732026],lost=1.8364548285336084\n",
      "theta=[3.14736534 3.43019308],lost=1.4117760488074216\n",
      "theta=[3.25580985 3.50955045],lost=1.2662779089065532\n",
      "theta=[3.32729744 3.54704887],lost=1.212768212881922\n",
      "theta=[3.37731347 3.56081751],lost=1.1897944732716934\n",
      "theta=[3.41473967 3.5612354 ],lost=1.1771722479187494\n",
      "theta=[3.44467393 3.55424136],lost=1.168260262332406\n",
      "theta=[3.47004595 3.5432305 ],lost=1.160861576741706\n",
      "theta=[3.49254285 3.53014072],lost=1.1542379545399617\n",
      "theta=[3.51313956 3.51607528],lost=1.1481303934363103\n",
      "theta=[3.53240268 3.50165943],lost=1.1424378937810635\n",
      "theta=[3.55066466 3.48724479],lost=1.1371121354780405\n",
      "theta=[3.56812348 3.4730264 ],lost=1.1321229425107364\n",
      "theta=[3.58489987 3.45910978],lost=1.1274469397971816\n",
      "theta=[3.60107006 3.4455494 ],lost=1.1230638012762557\n",
      "theta=[3.61668458 3.43237062],lost=1.1189549799242418\n",
      "theta=[3.63177898 3.41958234],lost=1.1151032487406516\n",
      "theta=[3.64638006 3.4071842 ],lost=1.111492507378851\n",
      "theta=[3.66050935 3.3951707 ],lost=1.1081076769956493\n",
      "theta=[3.67418522 3.38353358],lost=1.1049346258204416\n",
      "theta=[3.68742401 3.37226314],lost=1.1019601068760896\n",
      "theta=[3.70024071 3.36134904],lost=1.099171701841217\n",
      "theta=[3.71264935 3.35078068],lost=1.0965577690551167\n",
      "theta=[3.72466328 3.34054753],lost=1.0941073949308189\n",
      "theta=[3.73629523 3.33063916],lost=1.0918103484341501\n",
      "theta=[3.74755746 3.32104541],lost=1.089657038407829\n",
      "theta=[3.75846179 3.31175635],lost=1.0876384735592908\n",
      "theta=[3.76901962 3.30276235],lost=1.085746224947369\n",
      "theta=[3.77924199 3.29405407],lost=1.083972390813361\n",
      "theta=[3.78913957 3.28562243],lost=1.0823095636109081\n",
      "theta=[3.79872268 3.27745867],lost=1.0807507990976974\n",
      "theta=[3.80800132 3.26955427],lost=1.0792895873602135\n",
      "theta=[3.81698517 3.261901  ],lost=1.077919825650694\n",
      "theta=[3.82568359 3.25449088],lost=1.0766357929229318\n",
      "theta=[3.83410565 3.24731618],lost=1.0754321259606412\n",
      "theta=[3.84226013 3.24036943],lost=1.0743037969987648\n",
      "theta=[3.85015553 3.23364339],lost=1.0732460927443215\n",
      "theta=[3.85780009 3.22713104],lost=1.0722545947092592\n",
      "theta=[3.86520178 3.22082559],lost=1.0713251607732486\n",
      "theta=[3.8723683  3.21472047],lost=1.0704539078994912\n",
      "theta=[3.87930714 3.20880932],lost=1.0696371959314344\n",
      "theta=[3.88602552 3.20308597],lost=1.0688716124027982\n",
      "theta=[3.89253046 3.19754446],lost=1.0681539582975343\n",
      "theta=[3.89882872 3.19217901],lost=1.0674812347003182\n",
      "theta=[3.90492689 3.18698402],lost=1.0668506302818894\n",
      "theta=[3.9108313  3.18195408],lost=1.066259509567016\n",
      "theta=[3.91654813 3.17708395],lost=1.0657054019361594\n",
      "theta=[3.92208333 3.17236855],lost=1.065185991314944\n",
      "theta=[3.92744267 3.16780296],lost=1.0646991065084273\n",
      "theta=[3.93263174 3.16338243],lost=1.0642427121398448\n",
      "theta=[3.93765595 3.15910234],lost=1.0638149001560273\n",
      "theta=[3.94252053 3.15495823],lost=1.0634138818640562\n",
      "theta=[3.94723056 3.15094579],lost=1.063037980465933\n",
      "theta=[3.95179095 3.14706082],lost=1.062685624060123\n",
      "theta=[3.95620645 3.14329928],lost=1.0623553390807725\n",
      "theta=[3.96048166 3.13965726],lost=1.0620457441472313\n",
      "theta=[3.96462105 3.13613094],lost=1.0617555442982227\n",
      "theta=[3.96862893 3.13271666],lost=1.061483525586606\n",
      "theta=[3.97250947 3.12941085],lost=1.0612285500121783\n",
      "theta=[3.97626672 3.12621007],lost=1.0609895507713827\n",
      "theta=[3.9799046  3.12311098],lost=1.060765527804097\n",
      "theta=[3.9834269  3.12011036],lost=1.0605555436189318\n",
      "theta=[3.98683729 3.11720506],lost=1.060358719379614\n",
      "theta=[3.99013933 3.11439208],lost=1.0601742312361324\n",
      "theta=[3.99333646 3.11166846],lost=1.0600013068853418\n",
      "theta=[3.99643202 3.10903137],lost=1.0598392223466666\n",
      "theta=[3.99942923 3.10647807],lost=1.0596872989394615\n",
      "theta=[4.00233121 3.10400589],lost=1.0595449004494122\n",
      "theta=[4.005141   3.10161225],lost=1.0594114304721596\n",
      "theta=[4.00786151 3.09929467],lost=1.0592863299230562\n",
      "theta=[4.01049559 3.09705071],lost=1.059169074702675\n",
      "theta=[4.01304598 3.09487804],lost=1.0590591735083232\n",
      "theta=[4.01551535 3.09277441],lost=1.0589561657824287\n",
      "theta=[4.01790626 3.09073761],lost=1.0588596197892512\n",
      "theta=[4.02022121 3.08876552],lost=1.0587691308118774\n",
      "theta=[4.02246261 3.08685608],lost=1.0586843194619866\n",
      "theta=[4.0246328  3.08500731],lost=1.0586048300953348\n",
      "theta=[4.02673404 3.08321728],lost=1.0585303293263417\n",
      "theta=[4.02876852 3.08148411],lost=1.0584605046355846\n",
      "theta=[4.03073836 3.07980602],lost=1.0583950630643888\n",
      "theta=[4.03264562 3.07818123],lost=1.0583337299910698\n",
      "theta=[4.03449229 3.07660807],lost=1.0582762479837136\n",
      "theta=[4.03628028 3.07508489],lost=1.058222375724719\n",
      "theta=[4.03801147 3.0736101 ],lost=1.0581718870026053\n",
      "theta=[4.03968766 3.07218217],lost=1.0581245697668802\n",
      "theta=[4.04131059 3.07079961],lost=1.05808022524203\n",
      "theta=[4.04288196 3.06946097],lost=1.0580386670969213\n",
      "theta=[4.0444034  3.06816486],lost=1.0579997206661698\n",
      "theta=[4.04587651 3.06690992],lost=1.0579632222202027\n",
      "theta=[4.04730282 3.06569486],lost=1.0579290182809817\n",
      "theta=[4.04868381 3.06451841],lost=1.0578969649805379\n",
      "theta=[4.05002092 3.06337933],lost=1.0578669274596184\n",
      "theta=[4.05131556 3.06227644],lost=1.0578387793039639\n",
      "theta=[4.05256906 3.06120859],lost=1.05781240201584\n",
      "theta=[4.05378274 3.06017466],lost=1.0577876845186307\n",
      "theta=[4.05495785 3.05917359],lost=1.057764522692423\n",
      "theta=[4.05609564 3.05820432],lost=1.0577428189386437\n",
      "theta=[4.05719727 3.05726584],lost=1.0577224817719293\n",
      "theta=[4.0582639  3.05635718],lost=1.057703425437531\n",
      "theta=[4.05929665 3.0554774 ],lost=1.0576855695526524\n",
      "theta=[4.06029658 3.05462556],lost=1.0576688387702258\n",
      "theta=[4.06126475 3.05380078],lost=1.0576531624637229\n",
      "theta=[4.06220215 3.05300221],lost=1.0576384744316871\n",
      "theta=[4.06310978 3.05222901],lost=1.0576247126207452\n",
      "theta=[4.06398857 3.05148038],lost=1.0576118188659536\n",
      "theta=[4.06483943 3.05075553],lost=1.0575997386473888\n",
      "theta=[4.06566327 3.05005371],lost=1.057588420861965\n",
      "theta=[4.06646093 3.04937419],lost=1.0575778176095318\n",
      "theta=[4.06723325 3.04871626],lost=1.0575678839923521\n",
      "theta=[4.06798103 3.04807923],lost=1.0575585779271282\n",
      "theta=[4.06870505 3.04746244],lost=1.0575498599687905\n",
      "theta=[4.06940607 3.04686524],lost=1.0575416931453083\n",
      "theta=[4.07008482 3.04628702],lost=1.0575340428028428\n",
      "theta=[4.070742   3.04572717],lost=1.0575268764605854\n",
      "theta=[4.0713783  3.04518511],lost=1.057520163674679\n",
      "theta=[4.07199439 3.04466027],lost=1.0575138759106588\n",
      "theta=[4.07259091 3.0441521 ],lost=1.0575079864238717\n",
      "theta=[4.07316847 3.04366008],lost=1.057502470147382\n",
      "theta=[4.07372768 3.04318369],lost=1.0574973035868893\n",
      "theta=[4.07426913 3.04272244],lost=1.057492464722225\n",
      "theta=[4.07479337 3.04227584],lost=1.0574879329150142\n",
      "theta=[4.07530096 3.04184342],lost=1.0574836888221126\n",
      "theta=[4.07579242 3.04142475],lost=1.0574797143144687\n",
      "theta=[4.07626827 3.04101938],lost=1.0574759924010546\n",
      "theta=[4.076729   3.04062689],lost=1.0574725071575681\n",
      "theta=[4.07717509 3.04024687],lost=1.0574692436595918\n",
      "theta=[4.07760701 3.03987892],lost=1.057466187919936\n",
      "theta=[4.0780252  3.03952266],lost=1.0574633268299076\n",
      "theta=[4.07843011 3.03917772],lost=1.0574606481042512\n",
      "theta=[4.07882216 3.03884374],lost=1.057458140229542\n",
      "theta=[4.07920174 3.03852037],lost=1.057455792415804\n",
      "theta=[4.07956927 3.03820727],lost=1.057453594551161\n",
      "theta=[4.07992513 3.03790413],lost=1.0574515371593292\n",
      "theta=[4.08026967 3.03761061],lost=1.0574496113597616\n",
      "theta=[4.08060327 3.03732642],lost=1.0574478088303005\n",
      "theta=[4.08092628 3.03705125],lost=1.0574461217721602\n",
      "theta=[4.08123901 3.03678483],lost=1.0574445428771049\n",
      "theta=[4.08154182 3.03652688],lost=1.0574430652966818\n",
      "theta=[4.081835   3.03627712],lost=1.057441682613382\n",
      "theta=[4.08211887 3.03603529],lost=1.0574403888136075\n",
      "theta=[4.08239372 3.03580115],lost=1.0574391782623294\n",
      "theta=[4.08265983 3.03557444],lost=1.057438045679335\n",
      "theta=[4.0829175  3.03535494],lost=1.0574369861169646\n",
      "theta=[4.08316697 3.03514242],lost=1.0574359949392373\n",
      "theta=[4.08340852 3.03493664],lost=1.0574350678022915\n",
      "theta=[4.0836424 3.0347374],lost=1.0574342006360458\n",
      "theta=[4.08386884 3.0345445 ],lost=1.057433389627011\n",
      "theta=[4.0840881  3.03435772],lost=1.057432631202178\n",
      "theta=[4.08430038 3.03417687],lost=1.057431922013917\n",
      "theta=[4.08450592 3.03400178],lost=1.0574312589258215\n",
      "theta=[4.08470493 3.03383224],lost=1.05743063899944\n",
      "theta=[4.08489762 3.03366809],lost=1.0574300594818389\n",
      "theta=[4.08508418 3.03350916],lost=1.0574295177939472\n",
      "theta=[4.08526482 3.03335527],lost=1.0574290115196268\n",
      "theta=[4.08543972 3.03320628],lost=1.0574285383954338\n",
      "theta=[4.08560906 3.03306202],lost=1.0574280963010185\n",
      "theta=[4.08577303 3.03292234],lost=1.0574276832501273\n",
      "theta=[4.08593178 3.0327871 ],lost=1.0574272973821703\n",
      "theta=[4.08608549 3.03265615],lost=1.0574269369543163\n",
      "theta=[4.08623431 3.03252937],lost=1.0574266003340842\n",
      "theta=[4.08637841 3.03240661],lost=1.0574262859923993\n",
      "theta=[4.08651793 3.03228776],lost=1.057425992497086\n",
      "theta=[4.08665302 3.03217268],lost=1.057425718506765\n",
      "theta=[4.08678381 3.03206125],lost=1.05742546276514\n",
      "theta=[4.08691045 3.03195337],lost=1.057425224095635\n",
      "theta=[4.08703307 3.03184892],lost=1.057425001396376\n",
      "theta=[4.08715179 3.03174778],lost=1.0574247936354808\n",
      "theta=[4.08726674 3.03164985],lost=1.0574245998466492\n",
      "theta=[4.08737803 3.03155504],lost=1.0574244191250288\n",
      "theta=[4.08748579 3.03146324],lost=1.0574242506233391\n",
      "theta=[4.08759013 3.03137436],lost=1.0574240935482404\n",
      "theta=[4.08769115 3.0312883 ],lost=1.0574239471569293\n",
      "theta=[4.08778896 3.03120497],lost=1.057423810753952\n",
      "theta=[4.08788367 3.03112429],lost=1.0574236836882107\n",
      "theta=[4.08797536 3.03104618],lost=1.057423565350165\n",
      "theta=[4.08806415 3.03097055],lost=1.0574234551692063\n",
      "theta=[4.08815011 3.03089732],lost=1.0574233526111971\n",
      "theta=[4.08823334 3.03082641],lost=1.0574232571761646\n",
      "theta=[4.08831393 3.03075776],lost=1.0574231683961406\n",
      "theta=[4.08839195 3.03069129],lost=1.0574230858331366\n",
      "theta=[4.0884675  3.03062693],lost=1.0574230090772465\n",
      "theta=[4.08854065 3.03056462],lost=1.0574229377448687\n",
      "theta=[4.08861147 3.03050429],lost=1.0574228714770386\n",
      "theta=[4.08868004 3.03044587],lost=1.0574228099378689\n",
      "theta=[4.08874644 3.03038931],lost=1.0574227528130855\n",
      "theta=[4.08881072 3.03033454],lost=1.057422699808657\n",
      "theta=[4.08887296 3.03028152],lost=1.0574226506495108\n",
      "theta=[4.08893323 3.03023018],lost=1.0574226050783273\n",
      "theta=[4.08899158 3.03018047],lost=1.0574225628544145\n",
      "theta=[4.08904808 3.03013234],lost=1.0574225237526502\n",
      "theta=[4.08910278 3.03008574],lost=1.0574224875624914\n",
      "theta=[4.08915574 3.03004062],lost=1.0574224540870476\n",
      "theta=[4.08920702 3.02999694],lost=1.0574224231422114\n",
      "theta=[4.08925667 3.02995464],lost=1.057422394555843\n",
      "theta=[4.08930475 3.02991369],lost=1.0574223681670105\n",
      "theta=[4.08935129 3.02987403],lost=1.0574223438252708\n",
      "theta=[4.08939636 3.02983564],lost=1.0574223213900025\n",
      "theta=[4.08944    3.02979847],lost=1.0574223007297792\n",
      "theta=[4.08948225 3.02976248],lost=1.0574222817217807\n",
      "theta=[4.08952315 3.02972763],lost=1.0574222642512416\n",
      "theta=[4.08956276 3.02969389],lost=1.0574222482109386\n",
      "theta=[4.08960111 3.02966122],lost=1.0574222335007033\n",
      "theta=[4.08963824 3.02962958],lost=1.0574222200269743\n",
      "theta=[4.08967419 3.02959896],lost=1.0574222077023678\n",
      "theta=[4.089709  3.0295693],lost=1.0574221964452881\n",
      "theta=[4.08974271 3.02954059],lost=1.0574221861795483\n",
      "[4.08977534 3.02951279]\n"
     ]
    }
   ],
   "source": [
    "theta = np.array([0,0])\n",
    "epsilon = 1e-8\n",
    "eta = 0.1\n",
    "while True:\n",
    "    gradient = dJ(theta,X_b,y)\n",
    "    last_theta = theta\n",
    "    theta = theta - eta * gradient\n",
    "    last_lost = J(last_theta,X_b,y)\n",
    "    lost = J(theta,X_b,y)\n",
    "    if last_lost - lost  < epsilon:\n",
    "        break\n",
    "    print(\"theta=\"+str(theta)+\",lost=\"+str(lost))\n",
    "print(theta)"
   ]
  },
  {
   "cell_type": "code",
   "execution_count": 91,
   "metadata": {},
   "outputs": [
    {
     "name": "stdout",
     "output_type": "stream",
     "text": [
      "-0.0015959977955470883\n",
      "-0.0011575185474581584\n",
      "-0.0017492546707880141\n",
      "-0.0012710489417486759\n"
     ]
    }
   ],
   "source": [
    "\n",
    "theta = np.array([4.08977534,3.02951279])\n",
    "theta1 = theta * np.array([1.01,1.])\n",
    "theta2 = theta * np.array([1.,1.01])\n",
    "theta3 = theta * np.array([0.99,1.])\n",
    "theta4 = theta * np.array([1.,0.99])\n",
    "lost = J(theta,X_b,y)\n",
    "lost1 = J(theta1,X_b,y)\n",
    "lost2 = J(theta2,X_b,y)\n",
    "lost3 = J(theta3,X_b,y)\n",
    "lost4 = J(theta4,X_b,y)\n",
    "print(str(lost - lost1))\n",
    "print(str(lost - lost2))\n",
    "print(str(lost - lost3))\n",
    "print(str(lost - lost4))"
   ]
  },
  {
   "cell_type": "code",
   "execution_count": 92,
   "metadata": {},
   "outputs": [
    {
     "ename": "ImportError",
     "evalue": "cannot import name 'SGDRegressore' from 'sklearn.linear_model' (/usr/local/lib/python3.7/site-packages/sklearn/linear_model/__init__.py)",
     "output_type": "error",
     "traceback": [
      "\u001b[0;31m---------------------------------------------------------------------------\u001b[0m",
      "\u001b[0;31mImportError\u001b[0m                               Traceback (most recent call last)",
      "\u001b[0;32m<ipython-input-92-1cb6323a308b>\u001b[0m in \u001b[0;36m<module>\u001b[0;34m\u001b[0m\n\u001b[0;32m----> 1\u001b[0;31m \u001b[0;32mfrom\u001b[0m \u001b[0msklearn\u001b[0m\u001b[0;34m.\u001b[0m\u001b[0mlinear_model\u001b[0m \u001b[0;32mimport\u001b[0m \u001b[0mSGDRegressore\u001b[0m\u001b[0;34m\u001b[0m\u001b[0;34m\u001b[0m\u001b[0m\n\u001b[0m",
      "\u001b[0;31mImportError\u001b[0m: cannot import name 'SGDRegressore' from 'sklearn.linear_model' (/usr/local/lib/python3.7/site-packages/sklearn/linear_model/__init__.py)"
     ]
    }
   ],
   "source": [
    "from sklearn.linear_model import SGDRegressore"
   ]
  },
  {
   "cell_type": "code",
   "execution_count": 93,
   "metadata": {},
   "outputs": [
    {
     "ename": "ModuleNotFoundError",
     "evalue": "No module named 'sklearn.linear_model.SGDRegressor'",
     "output_type": "error",
     "traceback": [
      "\u001b[0;31m---------------------------------------------------------------------------\u001b[0m",
      "\u001b[0;31mModuleNotFoundError\u001b[0m                       Traceback (most recent call last)",
      "\u001b[0;32m<ipython-input-93-ceff3ca7ad98>\u001b[0m in \u001b[0;36m<module>\u001b[0;34m\u001b[0m\n\u001b[0;32m----> 1\u001b[0;31m \u001b[0;32mimport\u001b[0m \u001b[0msklearn\u001b[0m\u001b[0;34m.\u001b[0m\u001b[0mlinear_model\u001b[0m\u001b[0;34m.\u001b[0m\u001b[0mSGDRegressor\u001b[0m\u001b[0;34m\u001b[0m\u001b[0;34m\u001b[0m\u001b[0m\n\u001b[0m",
      "\u001b[0;31mModuleNotFoundError\u001b[0m: No module named 'sklearn.linear_model.SGDRegressor'"
     ]
    }
   ],
   "source": [
    "import sklearn.linear_model.SGDRegressor"
   ]
  },
  {
   "cell_type": "code",
   "execution_count": 94,
   "metadata": {},
   "outputs": [],
   "source": [
    "from sklearn.linear_model import SGDRegressor"
   ]
  },
  {
   "cell_type": "code",
   "execution_count": null,
   "metadata": {},
   "outputs": [],
   "source": []
  }
 ],
 "metadata": {
  "kernelspec": {
   "display_name": "Python 3",
   "language": "python",
   "name": "python3"
  },
  "language_info": {
   "codemirror_mode": {
    "name": "ipython",
    "version": 3
   },
   "file_extension": ".py",
   "mimetype": "text/x-python",
   "name": "python",
   "nbconvert_exporter": "python",
   "pygments_lexer": "ipython3",
   "version": "3.7.3"
  }
 },
 "nbformat": 4,
 "nbformat_minor": 2
}
