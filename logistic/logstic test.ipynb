{
 "cells": [
  {
   "cell_type": "code",
   "execution_count": 60,
   "metadata": {},
   "outputs": [
    {
     "ename": "ModuleNotFoundError",
     "evalue": "No module named 'matplotlib'",
     "output_type": "error",
     "traceback": [
      "\u001b[0;31m---------------------------------------------------------------------------\u001b[0m",
      "\u001b[0;31mModuleNotFoundError\u001b[0m                       Traceback (most recent call last)",
      "\u001b[0;32m<ipython-input-60-e0e1492b7973>\u001b[0m in \u001b[0;36m<module>\u001b[0;34m\u001b[0m\n\u001b[1;32m      1\u001b[0m \u001b[0;32mimport\u001b[0m \u001b[0mnumpy\u001b[0m \u001b[0;32mas\u001b[0m \u001b[0mnp\u001b[0m\u001b[0;34m\u001b[0m\u001b[0;34m\u001b[0m\u001b[0m\n\u001b[0;32m----> 2\u001b[0;31m \u001b[0;32mimport\u001b[0m \u001b[0mmatplotlib\u001b[0m\u001b[0;34m.\u001b[0m\u001b[0mpyplot\u001b[0m \u001b[0;32mas\u001b[0m \u001b[0mplt\u001b[0m\u001b[0;34m\u001b[0m\u001b[0;34m\u001b[0m\u001b[0m\n\u001b[0m",
      "\u001b[0;31mModuleNotFoundError\u001b[0m: No module named 'matplotlib'"
     ]
    }
   ],
   "source": [
    "import numpy as np\n",
    "import matplotlib.pyplot as plt"
   ]
  },
  {
   "cell_type": "code",
   "execution_count": 2,
   "metadata": {},
   "outputs": [],
   "source": [
    "from sklearn.datasets import load_iris\n",
    "from sklearn.model_selection import train_test_split"
   ]
  },
  {
   "cell_type": "code",
   "execution_count": 3,
   "metadata": {},
   "outputs": [],
   "source": [
    "import sys"
   ]
  },
  {
   "cell_type": "code",
   "execution_count": 59,
   "metadata": {},
   "outputs": [],
   "source": [
    "sys.path.insert(1, \"/Users/saiwei/PycharmProjects/linear_regression/LinearRegression\") "
   ]
  },
  {
   "cell_type": "code",
   "execution_count": 30,
   "metadata": {},
   "outputs": [],
   "source": [
    "from Regression import LogisticRegression"
   ]
  },
  {
   "cell_type": "code",
   "execution_count": 31,
   "metadata": {},
   "outputs": [],
   "source": [
    "logistic_reg = LogisticRegression()"
   ]
  },
  {
   "cell_type": "code",
   "execution_count": 54,
   "metadata": {},
   "outputs": [],
   "source": [
    "X = np.random.uniform(low=0,high=1,size=1000).reshape([-1,5])"
   ]
  },
  {
   "cell_type": "code",
   "execution_count": 56,
   "metadata": {},
   "outputs": [
    {
     "data": {
      "text/plain": [
       "array([0.28521916, 0.46644508, 0.60434472, 0.51867705, 0.51469135,\n",
       "       0.53543101, 0.53989093, 0.62855386, 0.61756242, 0.72374498,\n",
       "       0.50476244, 0.41798624, 0.4006585 , 0.39273782, 0.60281883,\n",
       "       0.71930576, 0.55241559, 0.42214464, 0.53654695, 0.67711652,\n",
       "       0.62492964, 0.49955542, 0.72320966, 0.53241257, 0.33729308,\n",
       "       0.50052158, 0.69267346, 0.34053967, 0.62993064, 0.67267403,\n",
       "       0.73989035, 0.70109352, 0.63738147, 0.42344432, 0.67029757,\n",
       "       0.41019217, 0.57149373, 0.62642547, 0.43148613, 0.26727615,\n",
       "       0.75944797, 0.61123605, 0.37991301, 0.39389435, 0.60017971,\n",
       "       0.55072972, 0.22426944, 0.52841402, 0.68421944, 0.34316157,\n",
       "       0.55549489, 0.44318717, 0.40392198, 0.59144393, 0.46040702,\n",
       "       0.69229505, 0.54686011, 0.66759345, 0.53016079, 0.51770971,\n",
       "       0.48652475, 0.63252448, 0.70940208, 0.23906227, 0.65701854,\n",
       "       0.48923989, 0.37471047, 0.50212888, 0.6790846 , 0.45760362,\n",
       "       0.52053901, 0.4535957 , 0.31798403, 0.73385054, 0.410257  ,\n",
       "       0.43508977, 0.37140427, 0.71791728, 0.72564952, 0.59778376,\n",
       "       0.35051698, 0.42248   , 0.44735589, 0.60371505, 0.44487272,\n",
       "       0.61928617, 0.3102215 , 0.30642067, 0.37683374, 0.6264188 ,\n",
       "       0.46977176, 0.44425721, 0.33895434, 0.60437254, 0.40215275,\n",
       "       0.38768   , 0.58303896, 0.63406118, 0.60888885, 0.34923871,\n",
       "       0.49152163, 0.50269588, 0.63763514, 0.47253549, 0.47277886,\n",
       "       0.54255551, 0.60571858, 0.34993007, 0.51026412, 0.37283561,\n",
       "       0.39665354, 0.57295142, 0.62465991, 0.70547783, 0.24287004,\n",
       "       0.63839118, 0.49429651, 0.34009231, 0.37896351, 0.47245439,\n",
       "       0.28746559, 0.51848921, 0.50081402, 0.71140892, 0.30121368,\n",
       "       0.54910641, 0.64601108, 0.48612159, 0.51436089, 0.50379285,\n",
       "       0.47619023, 0.44893892, 0.48438953, 0.52721945, 0.43111687,\n",
       "       0.52696525, 0.56659608, 0.39483914, 0.61929917, 0.35815389,\n",
       "       0.45930357, 0.53507116, 0.30147799, 0.48314678, 0.56389183,\n",
       "       0.64197775, 0.50189214, 0.64554876, 0.27375268, 0.3864425 ,\n",
       "       0.3183607 , 0.38990928, 0.28945865, 0.41811742, 0.65613822,\n",
       "       0.56208465, 0.55024395, 0.47834883, 0.37922352, 0.50953319,\n",
       "       0.59404817, 0.72483327, 0.45738541, 0.46793171, 0.55019797,\n",
       "       0.57422008, 0.48246868, 0.60818728, 0.60325304, 0.56126845,\n",
       "       0.5001202 , 0.30373627, 0.29428789, 0.40043065, 0.71983507,\n",
       "       0.49959267, 0.55381405, 0.53317245, 0.39425107, 0.49829595,\n",
       "       0.76081818, 0.48369126, 0.46140926, 0.26418883, 0.540037  ,\n",
       "       0.60446131, 0.53754197, 0.57325077, 0.71639473, 0.3989027 ,\n",
       "       0.55999276, 0.36587712, 0.42993896, 0.32642433, 0.49359061,\n",
       "       0.43576183, 0.44392251, 0.47819336, 0.52133144, 0.27328621])"
      ]
     },
     "execution_count": 56,
     "metadata": {},
     "output_type": "execute_result"
    }
   ],
   "source": [
    "np.mean(X,axis=1)"
   ]
  },
  {
   "cell_type": "code",
   "execution_count": 43,
   "metadata": {},
   "outputs": [
    {
     "data": {
      "text/plain": [
       "array([0, 0, 0, 0, 0, 0, 1, 0, 0, 1, 0, 1, 0, 0, 0, 1, 0, 0, 0, 1, 0, 0,\n",
       "       0, 0, 0, 0, 0, 0, 0, 0, 1, 0, 0, 0, 1, 1, 0, 0])"
      ]
     },
     "execution_count": 43,
     "metadata": {},
     "output_type": "execute_result"
    }
   ],
   "source": [
    "np.array(y_test == 1,dtype='int')"
   ]
  },
  {
   "cell_type": "code",
   "execution_count": null,
   "metadata": {},
   "outputs": [],
   "source": []
  }
 ],
 "metadata": {
  "kernelspec": {
   "display_name": "Python 3",
   "language": "python",
   "name": "python3"
  },
  "language_info": {
   "codemirror_mode": {
    "name": "ipython",
    "version": 3
   },
   "file_extension": ".py",
   "mimetype": "text/x-python",
   "name": "python",
   "nbconvert_exporter": "python",
   "pygments_lexer": "ipython3",
   "version": "3.7.3"
  }
 },
 "nbformat": 4,
 "nbformat_minor": 2
}
