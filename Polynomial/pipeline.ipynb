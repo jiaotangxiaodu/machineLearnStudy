{
 "cells": [
  {
   "cell_type": "code",
   "execution_count": 1,
   "metadata": {},
   "outputs": [],
   "source": [
    "import numpy as np\n",
    "import matplotlib.pyplot as plt"
   ]
  },
  {
   "cell_type": "code",
   "execution_count": 33,
   "metadata": {},
   "outputs": [],
   "source": [
    "x = np.random.uniform(-3,3,size=100)\n",
    "X = x.reshape(-1,1)\n",
    "y = 0.5 * (x ** 2) + 1 * x + 2 + np.random.normal(0,1,100)"
   ]
  },
  {
   "cell_type": "code",
   "execution_count": 7,
   "metadata": {},
   "outputs": [],
   "source": [
    "from sklearn.pipeline import Pipeline\n",
    "from sklearn.preprocessing import PolynomialFeatures\n",
    "from sklearn.preprocessing import StandardScaler\n",
    "from sklearn.linear_model import LinearRegression"
   ]
  },
  {
   "cell_type": "code",
   "execution_count": 34,
   "metadata": {},
   "outputs": [],
   "source": [
    "poly_reg = Pipeline([\n",
    "    (\"poly\",PolynomialFeatures(degree=2)),\n",
    "    (\"std_scaler\",StandardScaler()),\n",
    "    (\"lin_reg\",LinearRegression())\n",
    "])"
   ]
  },
  {
   "cell_type": "code",
   "execution_count": 36,
   "metadata": {},
   "outputs": [],
   "source": [
    "poly_reg.fit(X,y)\n",
    "y_predict = poly_reg.predict(X)"
   ]
  },
  {
   "cell_type": "code",
   "execution_count": 28,
   "metadata": {},
   "outputs": [
    {
     "data": {
      "text/plain": [
       "array([1.84641309, 4.9951776 , 3.25442456, 2.97587861, 3.30811185,\n",
       "       1.53447177, 2.14697429, 2.36887202, 4.30831706, 1.75722053,\n",
       "       4.13295467, 2.47353452, 1.56861701, 7.59221817, 8.1623261 ,\n",
       "       2.25814846, 2.43067822, 4.52900796, 2.0291274 , 4.84011561,\n",
       "       4.9667512 , 2.60546093, 3.03922163, 2.99522915, 2.14282273,\n",
       "       2.54419666, 3.19973083, 1.52011136, 1.63969072, 1.88801286,\n",
       "       1.91736785, 1.53487765, 1.5587522 , 1.52352745, 8.28850661,\n",
       "       1.78305993, 5.16032338, 2.65364249, 5.66645119, 4.33349062,\n",
       "       3.38879344, 1.86607697, 1.52589558, 1.63804937, 1.61057444,\n",
       "       2.14131818, 1.54323414, 4.44693701, 2.75344295, 9.12780591,\n",
       "       3.33660583, 5.6949317 , 7.77926335, 2.18441038, 1.60575952,\n",
       "       1.70003858, 2.45966578, 3.35623848, 1.66462215, 1.55488047,\n",
       "       8.1327228 , 1.57119904, 2.38416831, 2.00486733, 1.70036094,\n",
       "       9.41639843, 2.22906181, 3.04677577, 2.46504769, 1.59691518,\n",
       "       2.91258413, 2.77267542, 1.73425577, 3.31592722, 1.88217661,\n",
       "       2.54044812, 1.86485164, 4.15293381, 1.52127272, 1.57954345,\n",
       "       3.09091912, 2.22266945, 1.63668857, 4.61220553, 2.9055502 ,\n",
       "       7.01710557, 1.53295447, 2.15822038, 1.76352368, 2.52775401,\n",
       "       6.14411483, 5.53836017, 1.64469871, 1.90095846, 5.63200239,\n",
       "       1.52390453, 3.08883365, 3.17138626, 6.69128717, 6.1239157 ])"
      ]
     },
     "execution_count": 28,
     "metadata": {},
     "output_type": "execute_result"
    }
   ],
   "source": [
    "y_predict"
   ]
  },
  {
   "cell_type": "code",
   "execution_count": 39,
   "metadata": {},
   "outputs": [
    {
     "data": {
      "image/png": "[encoded data removed]",
      "text/plain": [
       "<Figure size 432x288 with 1 Axes>"
      ]
     },
     "metadata": {
      "needs_background": "light"
     },
     "output_type": "display_data"
    }
   ],
   "source": [
    "plt.scatter(np.sort(x),y[np.argsort(x)])\n",
    "plt.plot(np.sort(x),y_predict[np.argsort(x)],c='r')\n",
    "plt.show()"
   ]
  },
  {
   "cell_type": "code",
   "execution_count": null,
   "metadata": {},
   "outputs": [],
   "source": []
  }
 ],
 "metadata": {
  "kernelspec": {
   "display_name": "Python 3",
   "language": "python",
   "name": "python3"
  },
  "language_info": {
   "codemirror_mode": {
    "name": "ipython",
    "version": 3
   },
   "file_extension": ".py",
   "mimetype": "text/x-python",
   "name": "python",
   "nbconvert_exporter": "python",
   "pygments_lexer": "ipython3",
   "version": "3.7.3"
  }
 },
 "nbformat": 4,
 "nbformat_minor": 2
}
